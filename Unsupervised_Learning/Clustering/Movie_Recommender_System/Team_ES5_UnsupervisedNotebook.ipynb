{
 "cells": [
  {
   "cell_type": "markdown",
   "id": "74d44289",
   "metadata": {
    "_cell_guid": "b1076dfc-b9ad-4769-8c92-a6c4dae69d19",
    "_uuid": "8f2839f25d086af736a60e9eeb907d3b93b6e0e5",
    "papermill": {
     "duration": 0.006813,
     "end_time": "2022-07-18T13:56:12.456305",
     "exception": false,
     "start_time": "2022-07-18T13:56:12.449492",
     "status": "completed"
    },
    "tags": []
   },
   "source": [
    "# **Movie Recommendation 2022**\n",
    "## Using unsupervised Learning skills to generate movie recommendations\n",
    "\n",
    "![](https://i.pinimg.com/originals/a6/3c/7f/a63c7fb4604fee58c553e7d8d43aa6ac.jpg)"
   ]
  },
  {
   "cell_type": "markdown",
   "id": "94794604",
   "metadata": {
    "papermill": {
     "duration": 0.005136,
     "end_time": "2022-07-18T13:56:12.467153",
     "exception": false,
     "start_time": "2022-07-18T13:56:12.462017",
     "status": "completed"
    },
    "tags": []
   },
   "source": [
    "# <a id=\"contents\">Table of Contents</a><br>\n",
    "1. [**Introduction**](#introduction)\n",
    "  > 1.1 [**Problem Statement**](#problem_statement) <br>\n",
    "    1.2 [**Data Description**](#data)<br>\n",
    "    1.3 [**Importing Libraries**](#importing_libraries)<br>\n",
    "    1.4 [**Loading Data**](#loading_data) <br>\n",
    "    \n",
    "2. [**Exploratory Data Analysis**](#EDA) <br>\n",
    "   \n",
    "3. [**Modeling**](#model) <br>\n",
    ">   4.1 [**Model Preprocessing**](#modelpreprocessing)<br>\n",
    "    4.2 [**Model Training**](#modeltraining) <br>\n",
    "    >> 4.2.1. [**Model 1**](#model1) <br>\n",
    "     4.2.2. [**Model 2**](#model2) <br>\n",
    "     4.2.3. [**Model 3**](#model3) <br><br>\n",
    "    \n",
    "4. [**Conclusion and Recommendation**](#Conclusion/Recommendation) <br>\n",
    "   > 5.1 [**Conclusion**](#Conclusion) <br>\n",
    "     5.2 [**Recommendation**](#Recommendation) <br><br>\n",
    "\n",
    "5. [**References**](#reference) <br>"
   ]
  },
  {
   "cell_type": "markdown",
   "id": "4baa648f",
   "metadata": {
    "papermill": {
     "duration": 0.005163,
     "end_time": "2022-07-18T13:56:12.477665",
     "exception": false,
     "start_time": "2022-07-18T13:56:12.472502",
     "status": "completed"
    },
    "tags": []
   },
   "source": [
    "# 1.0 <a id=\"introduction\"><strong>INTRODUCTION</strong></a>\n",
    "[Table of Contents](#contents)<br>\n",
    "In today’s technology driven world, recommender systems are socially and economically critical to ensure that individuals can make optimised choices surrounding the content they engage with on a daily basis. One application where this is especially true is movie recommendations; where intelligent algorithms can help viewers find great titles from tens of thousands of options.\n",
    "![](https://research.aimultiple.com/wp-content/uploads/2017/08/recommendation-system.png)\n"
   ]
  },
  {
   "cell_type": "markdown",
   "id": "1bd54aeb",
   "metadata": {
    "papermill": {
     "duration": 0.005078,
     "end_time": "2022-07-18T13:56:12.488197",
     "exception": false,
     "start_time": "2022-07-18T13:56:12.483119",
     "status": "completed"
    },
    "tags": []
   },
   "source": [
    "## 1.1 <a id=\"problem_statement\"><strong>PROBLEM STATEMENT</strong></a>\n",
    "[Table of Contents](#contents)<br>\n",
    "To construct a recommendation algorithm based on content or collaborative filtering, capable of accurately predicting how a user will rate a movie they have not yet viewed, based on their historical preferences.<br><br> Providing an accurate and robust solution to this challenge has immense economic potential, with users of the system being personalised recommendations - generating platform affinity for the streaming services which best facilitates their audience's viewing.\n",
    "\n",
    "\n",
    "\n",
    "\n"
   ]
  },
  {
   "cell_type": "markdown",
   "id": "c4445352",
   "metadata": {
    "papermill": {
     "duration": 0.005257,
     "end_time": "2022-07-18T13:56:12.498864",
     "exception": false,
     "start_time": "2022-07-18T13:56:12.493607",
     "status": "completed"
    },
    "tags": []
   },
   "source": [
    "# 1.2 <a id=\"data\"><strong>DATA DESCRIPTION</strong></a>\n",
    "[Table of Contents](#contents)<br>\n",
    "**Data Overview** <br>\n",
    "This dataset consists of several million 5-star ratings obtained from users of the online MovieLens movie recommendation service. The MovieLens dataset has long been used by industry and academic researchers to improve the performance of explicitly-based recommender systems. For this Predict, we'll be using a special version of the MovieLens dataset which has enriched with additional data, and resampled for fair evaluation purposes.<br>\n",
    "**Source** <br>\n",
    "The data for the MovieLens dataset is maintained by the GroupLens research group in the Department of Computer Science and Engineering at the University of Minnesota. Additional movie content data was legally scraped from IMDB<br> **Supplied Files:**<br>\n",
    "* genome_scores.csv - a score mapping the strength between movies and tag-related properties. Read more here\n",
    "* genome_tags.csv - user assigned tags for genome-related scores\n",
    "* imdb_data.csv - Additional movie metadata scraped from IMDB using the links.csv file.\n",
    "* links.csv - File providing a mapping between a MovieLens ID and associated IMDB and TMDB IDs.\n",
    "* sample_submission.csv - Sample of the submission format for the hackathon.>* tags.csv - User assigned for the movies within the dataset.\n",
    "* test.csv - The test split of the dataset. Contains user and movie IDs with no rating data.\n",
    "* train.csv - The training split of the dataset. Contains user and movie IDs with associated rating data.\n",
    "\n",
    "### Data Definitions\n",
    "\n",
    "**Numeric**\n",
    "* **budget:** - (continuous) dollar cost of production of the movie.\n",
    "* **rating:** - (discrete) users rating of a movie from. **TARGET**\n",
    "* **relevance:** - (continuous) measure (0-1) of the relevance of a genome tag to the movie, where 1 impies 100% relevance.\n",
    "* **runtime:** - (continuos) movie duration in minutes.\n",
    "* **timestamp:** - (continuous) the time at which a user rated the movie.\n",
    "\n",
    "\n",
    "**Categorical**\n",
    "* **director:** - (nominal) the person who controls the making of a film and supervises the actors and technical crew.\n",
    "* **genres:** - (nominal) the style or category of the movie. A movie may belong to multiple (up to nineteen) genres, or may be absent a genre listing.\n",
    "* **imdbId:** - (nominal) unique indentifying key for each IMBD entry. Can also be used in conjunction with the TMDB API.\n",
    "* **movieId:** - (nominal) a unique identifier for each movie. There are 48,213 unique movies.\n",
    "* **plot_keywords:** - (nominal) key words used to identify characteristics of a movie's storyline.\n",
    "* **tag:** - (nominal) genome label\n",
    "* **tagId:** - (nominal) unique genome identifier.\n",
    "* **tmdbId:** - (nominal) unique identifier that works in conjunction with the TMDB API.\n",
    "* **title:** - (nominal) the unique title identifying the movie. Included is a year of release enclosed in parenthesis at the end of the title.\n",
    "* **title_cast:** - (nominal) the actors of the main characters in the movie. This does not include extras.\n",
    "* **userId:** - (nominal) a unique identifier for each user. There are 162,541 unique users.\n",
    "\n",
    "*The Movie Genome concept is borrowed from the Human Genome Project, a scientific project to identify and map all human genes. Similarly, a Movie Genome identifies and indexes multiple “genes” (elements and aspects) of a movie.*\n"
   ]
  },
  {
   "cell_type": "markdown",
   "id": "7ea41aa5",
   "metadata": {
    "papermill": {
     "duration": 0.005156,
     "end_time": "2022-07-18T13:56:12.509524",
     "exception": false,
     "start_time": "2022-07-18T13:56:12.504368",
     "status": "completed"
    },
    "tags": []
   },
   "source": [
    " ## 1.3  <a id=\"importing_libraries\"><strong>IMPORTING LIBRARIES</strong></a>\n",
    "[Table of Contents](#contents)<br>\n",
    "Here We imported the libraries needed for training, testing and exploring our dataset such as pandas, scikit learn, numpy, matplotlib, etc."
   ]
  },
  {
   "cell_type": "code",
   "execution_count": 1,
   "id": "eb56e4fb",
   "metadata": {
    "execution": {
     "iopub.execute_input": "2022-07-18T13:56:12.522284Z",
     "iopub.status.busy": "2022-07-18T13:56:12.521874Z",
     "iopub.status.idle": "2022-07-18T13:56:12.537138Z",
     "shell.execute_reply": "2022-07-18T13:56:12.536347Z"
    },
    "papermill": {
     "duration": 0.024357,
     "end_time": "2022-07-18T13:56:12.539441",
     "exception": false,
     "start_time": "2022-07-18T13:56:12.515084",
     "status": "completed"
    },
    "tags": []
   },
   "outputs": [],
   "source": [
    "# This Python 3 environment comes with many helpful analytics libraries installed\n",
    "# It is defined by the kaggle/python Docker image: https://github.com/kaggle/docker-python\n",
    "# For example, here's several helpful packages to load\n",
    "\n",
    "import numpy as np # linear algebra\n",
    "import pandas as pd # data processing, CSV file I/O (e.g. pd.read_csv)\n",
    "\n",
    "# Input data files are available in the read-only \"../input/\" directory\n",
    "# For example, running this (by clicking run or pressing Shift+Enter) will list all files under the input directory\n",
    "\n",
    "import os\n",
    "for dirname, _, filenames in os.walk('/kaggle/input'):\n",
    "    for filename in filenames:\n",
    "        print(os.path.join(dirname, filename))\n",
    "\n",
    "# You can write up to 20GB to the current directory (/kaggle/working/) that gets preserved as output when you create a version using \"Save & Run All\" \n",
    "# You can also write temporary files to /kaggle/temp/, but they won't be saved outside of the current session"
   ]
  },
  {
   "cell_type": "code",
   "execution_count": null,
   "id": "11942b25",
   "metadata": {},
   "outputs": [],
   "source": [
    "# Ignore warnings\n",
    "import warnings\n",
    "warnings.simplefilter(action='ignore')\n",
    "\n",
    "# Install Prerequisites\n",
    "# import sys\n",
    "# !{sys.executable} -m pip install scikit-learn scikit-surprise\n",
    "# !pip install git+https://github.com/gbolmier/funk-svd\n",
    "\n",
    "# Exploratory Data Analysis\n",
    "import pickle\n",
    "import numpy as np\n",
    "import pandas as pd\n",
    "import seaborn as sns\n",
    "import matplotlib.pyplot as plt\n",
    "\n",
    "# Data Preprocessing\n",
    "import random\n",
    "from time import time\n",
    "import cufflinks as cf\n",
    "from sklearn import manifold\n",
    "from sklearn.manifold import TSNE\n",
    "from sklearn.cluster import KMeans\n",
    "from sklearn.decomposition import PCA\n",
    "from mpl_toolkits.mplot3d import Axes3D\n",
    "from matplotlib.ticker import NullFormatter\n",
    "from sklearn.preprocessing import StandardScaler\n",
    "from plotly.offline import download_plotlyjs, init_notebook_mode, plot, iplot\n",
    "init_notebook_mode(connected=True)\n",
    "\n",
    "# Display\n",
    "%matplotlib inline\n",
    "sns.set(font_scale=1.5)\n",
    "sns.set_style(\"white\")\n",
    "pd.set_option('display.max_columns', 37)"
   ]
  },
  {
   "cell_type": "markdown",
   "id": "ede9b2cb",
   "metadata": {
    "papermill": {
     "duration": 0.008756,
     "end_time": "2022-07-18T13:56:12.557220",
     "exception": false,
     "start_time": "2022-07-18T13:56:12.548464",
     "status": "completed"
    },
    "tags": []
   },
   "source": [
    "## 1.4 <a id=\"loading_data\"><strong>LOADING DATA</strong></a>\n",
    "[Table of Contents](#contents)\n"
   ]
  },
  {
   "cell_type": "markdown",
   "id": "628fc09b",
   "metadata": {
    "papermill": {
     "duration": 0.00919,
     "end_time": "2022-07-18T13:56:12.575447",
     "exception": false,
     "start_time": "2022-07-18T13:56:12.566257",
     "status": "completed"
    },
    "tags": []
   },
   "source": [
    "#### Train and Test data:\n"
   ]
  },
  {
   "cell_type": "code",
   "execution_count": 2,
   "id": "fcdb8911",
   "metadata": {
    "execution": {
     "iopub.execute_input": "2022-07-18T13:56:12.595009Z",
     "iopub.status.busy": "2022-07-18T13:56:12.594515Z",
     "iopub.status.idle": "2022-07-18T13:56:19.869443Z",
     "shell.execute_reply": "2022-07-18T13:56:19.868489Z"
    },
    "papermill": {
     "duration": 7.287673,
     "end_time": "2022-07-18T13:56:19.872004",
     "exception": false,
     "start_time": "2022-07-18T13:56:12.584331",
     "status": "completed"
    },
    "tags": []
   },
   "outputs": [
    {
     "ename": "FileNotFoundError",
     "evalue": "[Errno 2] No such file or directory: '../input/edsa-movie-recommendation-2022/train.csv'",
     "output_type": "error",
     "traceback": [
      "\u001b[1;31m---------------------------------------------------------------------------\u001b[0m",
      "\u001b[1;31mFileNotFoundError\u001b[0m                         Traceback (most recent call last)",
      "Input \u001b[1;32mIn [2]\u001b[0m, in \u001b[0;36m<cell line: 2>\u001b[1;34m()\u001b[0m\n\u001b[0;32m      1\u001b[0m \u001b[38;5;66;03m#import train and test data \u001b[39;00m\n\u001b[1;32m----> 2\u001b[0m train \u001b[38;5;241m=\u001b[39m \u001b[43mpd\u001b[49m\u001b[38;5;241;43m.\u001b[39;49m\u001b[43mread_csv\u001b[49m\u001b[43m(\u001b[49m\u001b[38;5;124;43m\"\u001b[39;49m\u001b[38;5;124;43m../input/edsa-movie-recommendation-2022/train.csv\u001b[39;49m\u001b[38;5;124;43m\"\u001b[39;49m\u001b[43m)\u001b[49m \u001b[38;5;66;03m#importing train csv from kaggle\u001b[39;00m\n\u001b[0;32m      3\u001b[0m test \u001b[38;5;241m=\u001b[39m pd\u001b[38;5;241m.\u001b[39mread_csv(\u001b[38;5;124m\"\u001b[39m\u001b[38;5;124m../input/edsa-movie-recommendation-2022/test.csv\u001b[39m\u001b[38;5;124m\"\u001b[39m)\n",
      "File \u001b[1;32m~\\anaconda3\\lib\\site-packages\\pandas\\util\\_decorators.py:311\u001b[0m, in \u001b[0;36mdeprecate_nonkeyword_arguments.<locals>.decorate.<locals>.wrapper\u001b[1;34m(*args, **kwargs)\u001b[0m\n\u001b[0;32m    305\u001b[0m \u001b[38;5;28;01mif\u001b[39;00m \u001b[38;5;28mlen\u001b[39m(args) \u001b[38;5;241m>\u001b[39m num_allow_args:\n\u001b[0;32m    306\u001b[0m     warnings\u001b[38;5;241m.\u001b[39mwarn(\n\u001b[0;32m    307\u001b[0m         msg\u001b[38;5;241m.\u001b[39mformat(arguments\u001b[38;5;241m=\u001b[39marguments),\n\u001b[0;32m    308\u001b[0m         \u001b[38;5;167;01mFutureWarning\u001b[39;00m,\n\u001b[0;32m    309\u001b[0m         stacklevel\u001b[38;5;241m=\u001b[39mstacklevel,\n\u001b[0;32m    310\u001b[0m     )\n\u001b[1;32m--> 311\u001b[0m \u001b[38;5;28;01mreturn\u001b[39;00m func(\u001b[38;5;241m*\u001b[39margs, \u001b[38;5;241m*\u001b[39m\u001b[38;5;241m*\u001b[39mkwargs)\n",
      "File \u001b[1;32m~\\anaconda3\\lib\\site-packages\\pandas\\io\\parsers\\readers.py:680\u001b[0m, in \u001b[0;36mread_csv\u001b[1;34m(filepath_or_buffer, sep, delimiter, header, names, index_col, usecols, squeeze, prefix, mangle_dupe_cols, dtype, engine, converters, true_values, false_values, skipinitialspace, skiprows, skipfooter, nrows, na_values, keep_default_na, na_filter, verbose, skip_blank_lines, parse_dates, infer_datetime_format, keep_date_col, date_parser, dayfirst, cache_dates, iterator, chunksize, compression, thousands, decimal, lineterminator, quotechar, quoting, doublequote, escapechar, comment, encoding, encoding_errors, dialect, error_bad_lines, warn_bad_lines, on_bad_lines, delim_whitespace, low_memory, memory_map, float_precision, storage_options)\u001b[0m\n\u001b[0;32m    665\u001b[0m kwds_defaults \u001b[38;5;241m=\u001b[39m _refine_defaults_read(\n\u001b[0;32m    666\u001b[0m     dialect,\n\u001b[0;32m    667\u001b[0m     delimiter,\n\u001b[1;32m   (...)\u001b[0m\n\u001b[0;32m    676\u001b[0m     defaults\u001b[38;5;241m=\u001b[39m{\u001b[38;5;124m\"\u001b[39m\u001b[38;5;124mdelimiter\u001b[39m\u001b[38;5;124m\"\u001b[39m: \u001b[38;5;124m\"\u001b[39m\u001b[38;5;124m,\u001b[39m\u001b[38;5;124m\"\u001b[39m},\n\u001b[0;32m    677\u001b[0m )\n\u001b[0;32m    678\u001b[0m kwds\u001b[38;5;241m.\u001b[39mupdate(kwds_defaults)\n\u001b[1;32m--> 680\u001b[0m \u001b[38;5;28;01mreturn\u001b[39;00m \u001b[43m_read\u001b[49m\u001b[43m(\u001b[49m\u001b[43mfilepath_or_buffer\u001b[49m\u001b[43m,\u001b[49m\u001b[43m \u001b[49m\u001b[43mkwds\u001b[49m\u001b[43m)\u001b[49m\n",
      "File \u001b[1;32m~\\anaconda3\\lib\\site-packages\\pandas\\io\\parsers\\readers.py:575\u001b[0m, in \u001b[0;36m_read\u001b[1;34m(filepath_or_buffer, kwds)\u001b[0m\n\u001b[0;32m    572\u001b[0m _validate_names(kwds\u001b[38;5;241m.\u001b[39mget(\u001b[38;5;124m\"\u001b[39m\u001b[38;5;124mnames\u001b[39m\u001b[38;5;124m\"\u001b[39m, \u001b[38;5;28;01mNone\u001b[39;00m))\n\u001b[0;32m    574\u001b[0m \u001b[38;5;66;03m# Create the parser.\u001b[39;00m\n\u001b[1;32m--> 575\u001b[0m parser \u001b[38;5;241m=\u001b[39m TextFileReader(filepath_or_buffer, \u001b[38;5;241m*\u001b[39m\u001b[38;5;241m*\u001b[39mkwds)\n\u001b[0;32m    577\u001b[0m \u001b[38;5;28;01mif\u001b[39;00m chunksize \u001b[38;5;129;01mor\u001b[39;00m iterator:\n\u001b[0;32m    578\u001b[0m     \u001b[38;5;28;01mreturn\u001b[39;00m parser\n",
      "File \u001b[1;32m~\\anaconda3\\lib\\site-packages\\pandas\\io\\parsers\\readers.py:933\u001b[0m, in \u001b[0;36mTextFileReader.__init__\u001b[1;34m(self, f, engine, **kwds)\u001b[0m\n\u001b[0;32m    930\u001b[0m     \u001b[38;5;28mself\u001b[39m\u001b[38;5;241m.\u001b[39moptions[\u001b[38;5;124m\"\u001b[39m\u001b[38;5;124mhas_index_names\u001b[39m\u001b[38;5;124m\"\u001b[39m] \u001b[38;5;241m=\u001b[39m kwds[\u001b[38;5;124m\"\u001b[39m\u001b[38;5;124mhas_index_names\u001b[39m\u001b[38;5;124m\"\u001b[39m]\n\u001b[0;32m    932\u001b[0m \u001b[38;5;28mself\u001b[39m\u001b[38;5;241m.\u001b[39mhandles: IOHandles \u001b[38;5;241m|\u001b[39m \u001b[38;5;28;01mNone\u001b[39;00m \u001b[38;5;241m=\u001b[39m \u001b[38;5;28;01mNone\u001b[39;00m\n\u001b[1;32m--> 933\u001b[0m \u001b[38;5;28mself\u001b[39m\u001b[38;5;241m.\u001b[39m_engine \u001b[38;5;241m=\u001b[39m \u001b[38;5;28;43mself\u001b[39;49m\u001b[38;5;241;43m.\u001b[39;49m\u001b[43m_make_engine\u001b[49m\u001b[43m(\u001b[49m\u001b[43mf\u001b[49m\u001b[43m,\u001b[49m\u001b[43m \u001b[49m\u001b[38;5;28;43mself\u001b[39;49m\u001b[38;5;241;43m.\u001b[39;49m\u001b[43mengine\u001b[49m\u001b[43m)\u001b[49m\n",
      "File \u001b[1;32m~\\anaconda3\\lib\\site-packages\\pandas\\io\\parsers\\readers.py:1217\u001b[0m, in \u001b[0;36mTextFileReader._make_engine\u001b[1;34m(self, f, engine)\u001b[0m\n\u001b[0;32m   1213\u001b[0m     mode \u001b[38;5;241m=\u001b[39m \u001b[38;5;124m\"\u001b[39m\u001b[38;5;124mrb\u001b[39m\u001b[38;5;124m\"\u001b[39m\n\u001b[0;32m   1214\u001b[0m \u001b[38;5;66;03m# error: No overload variant of \"get_handle\" matches argument types\u001b[39;00m\n\u001b[0;32m   1215\u001b[0m \u001b[38;5;66;03m# \"Union[str, PathLike[str], ReadCsvBuffer[bytes], ReadCsvBuffer[str]]\"\u001b[39;00m\n\u001b[0;32m   1216\u001b[0m \u001b[38;5;66;03m# , \"str\", \"bool\", \"Any\", \"Any\", \"Any\", \"Any\", \"Any\"\u001b[39;00m\n\u001b[1;32m-> 1217\u001b[0m \u001b[38;5;28mself\u001b[39m\u001b[38;5;241m.\u001b[39mhandles \u001b[38;5;241m=\u001b[39m \u001b[43mget_handle\u001b[49m\u001b[43m(\u001b[49m\u001b[43m  \u001b[49m\u001b[38;5;66;43;03m# type: ignore[call-overload]\u001b[39;49;00m\n\u001b[0;32m   1218\u001b[0m \u001b[43m    \u001b[49m\u001b[43mf\u001b[49m\u001b[43m,\u001b[49m\n\u001b[0;32m   1219\u001b[0m \u001b[43m    \u001b[49m\u001b[43mmode\u001b[49m\u001b[43m,\u001b[49m\n\u001b[0;32m   1220\u001b[0m \u001b[43m    \u001b[49m\u001b[43mencoding\u001b[49m\u001b[38;5;241;43m=\u001b[39;49m\u001b[38;5;28;43mself\u001b[39;49m\u001b[38;5;241;43m.\u001b[39;49m\u001b[43moptions\u001b[49m\u001b[38;5;241;43m.\u001b[39;49m\u001b[43mget\u001b[49m\u001b[43m(\u001b[49m\u001b[38;5;124;43m\"\u001b[39;49m\u001b[38;5;124;43mencoding\u001b[39;49m\u001b[38;5;124;43m\"\u001b[39;49m\u001b[43m,\u001b[49m\u001b[43m \u001b[49m\u001b[38;5;28;43;01mNone\u001b[39;49;00m\u001b[43m)\u001b[49m\u001b[43m,\u001b[49m\n\u001b[0;32m   1221\u001b[0m \u001b[43m    \u001b[49m\u001b[43mcompression\u001b[49m\u001b[38;5;241;43m=\u001b[39;49m\u001b[38;5;28;43mself\u001b[39;49m\u001b[38;5;241;43m.\u001b[39;49m\u001b[43moptions\u001b[49m\u001b[38;5;241;43m.\u001b[39;49m\u001b[43mget\u001b[49m\u001b[43m(\u001b[49m\u001b[38;5;124;43m\"\u001b[39;49m\u001b[38;5;124;43mcompression\u001b[39;49m\u001b[38;5;124;43m\"\u001b[39;49m\u001b[43m,\u001b[49m\u001b[43m \u001b[49m\u001b[38;5;28;43;01mNone\u001b[39;49;00m\u001b[43m)\u001b[49m\u001b[43m,\u001b[49m\n\u001b[0;32m   1222\u001b[0m \u001b[43m    \u001b[49m\u001b[43mmemory_map\u001b[49m\u001b[38;5;241;43m=\u001b[39;49m\u001b[38;5;28;43mself\u001b[39;49m\u001b[38;5;241;43m.\u001b[39;49m\u001b[43moptions\u001b[49m\u001b[38;5;241;43m.\u001b[39;49m\u001b[43mget\u001b[49m\u001b[43m(\u001b[49m\u001b[38;5;124;43m\"\u001b[39;49m\u001b[38;5;124;43mmemory_map\u001b[39;49m\u001b[38;5;124;43m\"\u001b[39;49m\u001b[43m,\u001b[49m\u001b[43m \u001b[49m\u001b[38;5;28;43;01mFalse\u001b[39;49;00m\u001b[43m)\u001b[49m\u001b[43m,\u001b[49m\n\u001b[0;32m   1223\u001b[0m \u001b[43m    \u001b[49m\u001b[43mis_text\u001b[49m\u001b[38;5;241;43m=\u001b[39;49m\u001b[43mis_text\u001b[49m\u001b[43m,\u001b[49m\n\u001b[0;32m   1224\u001b[0m \u001b[43m    \u001b[49m\u001b[43merrors\u001b[49m\u001b[38;5;241;43m=\u001b[39;49m\u001b[38;5;28;43mself\u001b[39;49m\u001b[38;5;241;43m.\u001b[39;49m\u001b[43moptions\u001b[49m\u001b[38;5;241;43m.\u001b[39;49m\u001b[43mget\u001b[49m\u001b[43m(\u001b[49m\u001b[38;5;124;43m\"\u001b[39;49m\u001b[38;5;124;43mencoding_errors\u001b[39;49m\u001b[38;5;124;43m\"\u001b[39;49m\u001b[43m,\u001b[49m\u001b[43m \u001b[49m\u001b[38;5;124;43m\"\u001b[39;49m\u001b[38;5;124;43mstrict\u001b[39;49m\u001b[38;5;124;43m\"\u001b[39;49m\u001b[43m)\u001b[49m\u001b[43m,\u001b[49m\n\u001b[0;32m   1225\u001b[0m \u001b[43m    \u001b[49m\u001b[43mstorage_options\u001b[49m\u001b[38;5;241;43m=\u001b[39;49m\u001b[38;5;28;43mself\u001b[39;49m\u001b[38;5;241;43m.\u001b[39;49m\u001b[43moptions\u001b[49m\u001b[38;5;241;43m.\u001b[39;49m\u001b[43mget\u001b[49m\u001b[43m(\u001b[49m\u001b[38;5;124;43m\"\u001b[39;49m\u001b[38;5;124;43mstorage_options\u001b[39;49m\u001b[38;5;124;43m\"\u001b[39;49m\u001b[43m,\u001b[49m\u001b[43m \u001b[49m\u001b[38;5;28;43;01mNone\u001b[39;49;00m\u001b[43m)\u001b[49m\u001b[43m,\u001b[49m\n\u001b[0;32m   1226\u001b[0m \u001b[43m\u001b[49m\u001b[43m)\u001b[49m\n\u001b[0;32m   1227\u001b[0m \u001b[38;5;28;01massert\u001b[39;00m \u001b[38;5;28mself\u001b[39m\u001b[38;5;241m.\u001b[39mhandles \u001b[38;5;129;01mis\u001b[39;00m \u001b[38;5;129;01mnot\u001b[39;00m \u001b[38;5;28;01mNone\u001b[39;00m\n\u001b[0;32m   1228\u001b[0m f \u001b[38;5;241m=\u001b[39m \u001b[38;5;28mself\u001b[39m\u001b[38;5;241m.\u001b[39mhandles\u001b[38;5;241m.\u001b[39mhandle\n",
      "File \u001b[1;32m~\\anaconda3\\lib\\site-packages\\pandas\\io\\common.py:789\u001b[0m, in \u001b[0;36mget_handle\u001b[1;34m(path_or_buf, mode, encoding, compression, memory_map, is_text, errors, storage_options)\u001b[0m\n\u001b[0;32m    784\u001b[0m \u001b[38;5;28;01melif\u001b[39;00m \u001b[38;5;28misinstance\u001b[39m(handle, \u001b[38;5;28mstr\u001b[39m):\n\u001b[0;32m    785\u001b[0m     \u001b[38;5;66;03m# Check whether the filename is to be opened in binary mode.\u001b[39;00m\n\u001b[0;32m    786\u001b[0m     \u001b[38;5;66;03m# Binary mode does not support 'encoding' and 'newline'.\u001b[39;00m\n\u001b[0;32m    787\u001b[0m     \u001b[38;5;28;01mif\u001b[39;00m ioargs\u001b[38;5;241m.\u001b[39mencoding \u001b[38;5;129;01mand\u001b[39;00m \u001b[38;5;124m\"\u001b[39m\u001b[38;5;124mb\u001b[39m\u001b[38;5;124m\"\u001b[39m \u001b[38;5;129;01mnot\u001b[39;00m \u001b[38;5;129;01min\u001b[39;00m ioargs\u001b[38;5;241m.\u001b[39mmode:\n\u001b[0;32m    788\u001b[0m         \u001b[38;5;66;03m# Encoding\u001b[39;00m\n\u001b[1;32m--> 789\u001b[0m         handle \u001b[38;5;241m=\u001b[39m \u001b[38;5;28;43mopen\u001b[39;49m\u001b[43m(\u001b[49m\n\u001b[0;32m    790\u001b[0m \u001b[43m            \u001b[49m\u001b[43mhandle\u001b[49m\u001b[43m,\u001b[49m\n\u001b[0;32m    791\u001b[0m \u001b[43m            \u001b[49m\u001b[43mioargs\u001b[49m\u001b[38;5;241;43m.\u001b[39;49m\u001b[43mmode\u001b[49m\u001b[43m,\u001b[49m\n\u001b[0;32m    792\u001b[0m \u001b[43m            \u001b[49m\u001b[43mencoding\u001b[49m\u001b[38;5;241;43m=\u001b[39;49m\u001b[43mioargs\u001b[49m\u001b[38;5;241;43m.\u001b[39;49m\u001b[43mencoding\u001b[49m\u001b[43m,\u001b[49m\n\u001b[0;32m    793\u001b[0m \u001b[43m            \u001b[49m\u001b[43merrors\u001b[49m\u001b[38;5;241;43m=\u001b[39;49m\u001b[43merrors\u001b[49m\u001b[43m,\u001b[49m\n\u001b[0;32m    794\u001b[0m \u001b[43m            \u001b[49m\u001b[43mnewline\u001b[49m\u001b[38;5;241;43m=\u001b[39;49m\u001b[38;5;124;43m\"\u001b[39;49m\u001b[38;5;124;43m\"\u001b[39;49m\u001b[43m,\u001b[49m\n\u001b[0;32m    795\u001b[0m \u001b[43m        \u001b[49m\u001b[43m)\u001b[49m\n\u001b[0;32m    796\u001b[0m     \u001b[38;5;28;01melse\u001b[39;00m:\n\u001b[0;32m    797\u001b[0m         \u001b[38;5;66;03m# Binary mode\u001b[39;00m\n\u001b[0;32m    798\u001b[0m         handle \u001b[38;5;241m=\u001b[39m \u001b[38;5;28mopen\u001b[39m(handle, ioargs\u001b[38;5;241m.\u001b[39mmode)\n",
      "\u001b[1;31mFileNotFoundError\u001b[0m: [Errno 2] No such file or directory: '../input/edsa-movie-recommendation-2022/train.csv'"
     ]
    }
   ],
   "source": [
    "#import train and test data \n",
    "train = pd.read_csv(\"../input/edsa-movie-recommendation-2022/train.csv\") #importing train csv from kaggle\n",
    "test = pd.read_csv(\"../input/edsa-movie-recommendation-2022/test.csv\") #importing test csv from kaggle"
   ]
  },
  {
   "cell_type": "code",
   "execution_count": null,
   "id": "6e0876d9",
   "metadata": {
    "execution": {
     "iopub.execute_input": "2022-07-18T13:56:19.891839Z",
     "iopub.status.busy": "2022-07-18T13:56:19.891513Z",
     "iopub.status.idle": "2022-07-18T13:56:19.911525Z",
     "shell.execute_reply": "2022-07-18T13:56:19.910137Z"
    },
    "papermill": {
     "duration": 0.032385,
     "end_time": "2022-07-18T13:56:19.913593",
     "exception": false,
     "start_time": "2022-07-18T13:56:19.881208",
     "status": "completed"
    },
    "tags": []
   },
   "outputs": [],
   "source": [
    "train.head() #Load train data"
   ]
  },
  {
   "cell_type": "code",
   "execution_count": null,
   "id": "4f0bfe5a",
   "metadata": {
    "execution": {
     "iopub.execute_input": "2022-07-18T13:56:19.932668Z",
     "iopub.status.busy": "2022-07-18T13:56:19.932373Z",
     "iopub.status.idle": "2022-07-18T13:56:19.940424Z",
     "shell.execute_reply": "2022-07-18T13:56:19.939563Z"
    },
    "papermill": {
     "duration": 0.020047,
     "end_time": "2022-07-18T13:56:19.942607",
     "exception": false,
     "start_time": "2022-07-18T13:56:19.922560",
     "status": "completed"
    },
    "tags": []
   },
   "outputs": [],
   "source": [
    "test.head() #Load test data"
   ]
  },
  {
   "cell_type": "markdown",
   "id": "000706d0",
   "metadata": {
    "papermill": {
     "duration": 0.008795,
     "end_time": "2022-07-18T13:56:19.960619",
     "exception": false,
     "start_time": "2022-07-18T13:56:19.951824",
     "status": "completed"
    },
    "tags": []
   },
   "source": [
    "It is noted that the train data includes an additiona column \"timestamp\" We can be safely drop this data because there is no reasonable relationship between the time someone watches a movie and whether or not they rate it favourably."
   ]
  },
  {
   "cell_type": "markdown",
   "id": "c0f01875",
   "metadata": {
    "papermill": {
     "duration": 0.008784,
     "end_time": "2022-07-18T13:56:19.978474",
     "exception": false,
     "start_time": "2022-07-18T13:56:19.969690",
     "status": "completed"
    },
    "tags": []
   },
   "source": [
    "#### Movie Data:"
   ]
  },
  {
   "cell_type": "code",
   "execution_count": null,
   "id": "95b99266",
   "metadata": {
    "execution": {
     "iopub.execute_input": "2022-07-18T13:56:19.998587Z",
     "iopub.status.busy": "2022-07-18T13:56:19.998283Z",
     "iopub.status.idle": "2022-07-18T13:56:42.887366Z",
     "shell.execute_reply": "2022-07-18T13:56:42.883948Z"
    },
    "papermill": {
     "duration": 22.909982,
     "end_time": "2022-07-18T13:56:42.898138",
     "exception": false,
     "start_time": "2022-07-18T13:56:19.988156",
     "status": "completed"
    },
    "tags": []
   },
   "outputs": [],
   "source": [
    "#import movies data\n",
    "movies =  pd.read_csv('../input/edsa-movie-recommendation-2022/movies.csv', index_col='movieId') #importing movies csv from kaggle\n",
    "imdb =  pd.read_csv('../input/edsa-movie-recommendation-2022/imdb_data.csv', index_col='movieId') #importing imbd csv from kaggle\n",
    "links =  pd.read_csv('../input/edsa-movie-recommendation-2022/links.csv', index_col='movieId') #importing links csv from kaggle\n",
    "genome_scores =  pd.read_csv('../input/edsa-movie-recommendation-2022/genome_scores.csv', index_col='movieId') #importing genome_scores csv from kaggle\n",
    "genome_tags =  pd.read_csv('../input/edsa-movie-recommendation-2022/genome_tags.csv', index_col='tagId') #importing genome_tags csv from kaggle\n",
    "tags = pd.read_csv('../input/edsa-movie-recommendation-2022/tags.csv') #importing tags csv from kaggle"
   ]
  },
  {
   "cell_type": "markdown",
   "id": "0c9b4750",
   "metadata": {
    "papermill": {
     "duration": 0.006669,
     "end_time": "2022-07-18T13:56:42.954659",
     "exception": false,
     "start_time": "2022-07-18T13:56:42.947990",
     "status": "completed"
    },
    "tags": []
   },
   "source": [
    "# 2.0 <a id=\"EDA\"><strong>EXPLORATORY DATA ANALYSIS</strong></a>\n",
    "[Table of Contents](#contents)\n",
    "\n",
    "This phase is extremely important. It helps us to understand patterns in our data, pinpoint any outliers and indicate relationships between variables. This phase includes descriptive statistics and data visualisations.\n",
    "\n",
    "### Why is EDA important? <br>\n",
    "Exploratory Data Analysis (EDA) helps us to understand our data without making any assumptions. EDA is a vital component before we continue with the modelling phase as it provides context and guidance on the course of action to take when developing the appropriate model. It will also assist in interpreting the results correctly. Without doing EDA you will not understand your data fully.\n",
    "\n",
    "### The different types of EDA <br>\n",
    "EDA are generally classified in two ways:\n",
    "\n",
    "1) Non-graphical or Graphical\n",
    "2) Univariate or Multivariate\n",
    "\n",
    "\n",
    "![](https://raw.githubusercontent.com/Explore-AI/Pictures/f860f39251c523eda779dea0140316ccbefdd8e0/eda_map.jpg)\n",
    "\n",
    "* <b>Non-graphical EDA</b>: Involves calculations of summary/descriptive statistics.\n",
    "* <b>Graphical EDA</b>: This type of analysis will contain data visualisations.<br>\n",
    "\n",
    "* <b>Univariate Analysis</b>: This is performed on one variable at a time as the prefix 'uni' indicates.\n",
    "* <b>Multivariate Analysis</b>: This type of analysis explores the relationship between two or more variables. When only comparing two variables it is known as bivariate analysis as indicated by the prefix 'bi'.\n",
    "Read a more detailed explanation [here](chrome-extension://efaidnbmnnnibpcajpcglclefindmkaj/https://www.stat.cmu.edu/~hseltman/309/Book/chapter4.pdf)"
   ]
  },
  {
   "cell_type": "markdown",
   "id": "ff3113ff",
   "metadata": {},
   "source": [
    "For the EDA process, the following steps will be covered:\n",
    "1. **Data Summary**\n",
    "2. **Null Values**\n",
    "3. **Explore Target Variable**\n",
    "4. **Explore Gernre Variable**\n",
    "5. **Explore IMDB Dataset**"
   ]
  },
  {
   "cell_type": "markdown",
   "id": "e523f729",
   "metadata": {
    "execution": {
     "iopub.execute_input": "2022-07-12T07:31:04.065700Z",
     "iopub.status.busy": "2022-07-12T07:31:04.065304Z",
     "iopub.status.idle": "2022-07-12T07:31:04.072503Z",
     "shell.execute_reply": "2022-07-12T07:31:04.070787Z",
     "shell.execute_reply.started": "2022-07-12T07:31:04.065669Z"
    },
    "papermill": {
     "duration": 0.004481,
     "end_time": "2022-07-07T21:38:47.775068",
     "exception": false,
     "start_time": "2022-07-07T21:38:47.770587",
     "status": "completed"
    },
    "tags": []
   },
   "source": [
    "## 2.1 <a id=\"data_summary\"><strong>Data Summary</strong></a>\n",
    "[Table of Contents](#contents)\n",
    "\n",
    "Data summary will be done so as to provide information/metadata about all the data sets such as number of records and columnsper data set, column datatypes etc. This is a good process to start with as it will reveal the nature of the datasets which will guide us on how to handle them.\n",
    "\n",
    "We will start by looking into the number of columns, column labels, column data types, memory usage, range index, and the number of cells in each column (non-null values)"
   ]
  },
  {
   "cell_type": "code",
   "execution_count": 4,
   "id": "b6a078ce",
   "metadata": {
    "execution": {
     "iopub.execute_input": "2022-07-19T09:18:07.074501Z",
     "iopub.status.busy": "2022-07-19T09:18:07.073382Z",
     "iopub.status.idle": "2022-07-19T09:18:07.095497Z",
     "shell.execute_reply": "2022-07-19T09:18:07.093802Z",
     "shell.execute_reply.started": "2022-07-19T09:18:07.074446Z"
    }
   },
   "outputs": [],
   "source": [
    "train_df.info()"
   ]
  },
  {
   "cell_type": "code",
   "execution_count": 5,
   "id": "6f2d51f1",
   "metadata": {
    "execution": {
     "iopub.execute_input": "2022-07-19T09:18:07.098679Z",
     "iopub.status.busy": "2022-07-19T09:18:07.098062Z",
     "iopub.status.idle": "2022-07-19T09:18:07.111975Z",
     "shell.execute_reply": "2022-07-19T09:18:07.111124Z",
     "shell.execute_reply.started": "2022-07-19T09:18:07.098642Z"
    }
   },
   "outputs": [],
   "source": [
    "test_df.info()"
   ]
  },
  {
   "cell_type": "code",
   "execution_count": 6,
   "id": "5bfafd9d",
   "metadata": {
    "execution": {
     "iopub.execute_input": "2022-07-19T09:18:07.113979Z",
     "iopub.status.busy": "2022-07-19T09:18:07.113403Z",
     "iopub.status.idle": "2022-07-19T09:18:07.148636Z",
     "shell.execute_reply": "2022-07-19T09:18:07.146497Z",
     "shell.execute_reply.started": "2022-07-19T09:18:07.113942Z"
    }
   },
   "outputs": [],
   "source": [
    "movies_df.info()"
   ]
  },
  {
   "cell_type": "code",
   "execution_count": 7,
   "id": "f33e9c23",
   "metadata": {
    "execution": {
     "iopub.execute_input": "2022-07-19T09:18:07.153538Z",
     "iopub.status.busy": "2022-07-19T09:18:07.151700Z",
     "iopub.status.idle": "2022-07-19T09:18:07.181764Z",
     "shell.execute_reply": "2022-07-19T09:18:07.179802Z",
     "shell.execute_reply.started": "2022-07-19T09:18:07.153467Z"
    },
    "papermill": {
     "duration": 0.004325,
     "end_time": "2022-07-07T21:38:47.794568",
     "exception": false,
     "start_time": "2022-07-07T21:38:47.790243",
     "status": "completed"
    },
    "tags": []
   },
   "outputs": [],
   "source": [
    "imdb_df.info() "
   ]
  },
  {
   "cell_type": "code",
   "execution_count": 8,
   "id": "5d546370",
   "metadata": {
    "execution": {
     "iopub.execute_input": "2022-07-19T09:18:07.184022Z",
     "iopub.status.busy": "2022-07-19T09:18:07.183622Z",
     "iopub.status.idle": "2022-07-19T09:18:07.197580Z",
     "shell.execute_reply": "2022-07-19T09:18:07.196332Z",
     "shell.execute_reply.started": "2022-07-19T09:18:07.183975Z"
    }
   },
   "outputs": [],
   "source": [
    "links_df.info() "
   ]
  },
  {
   "cell_type": "code",
   "execution_count": 9,
   "id": "3c4e82c4",
   "metadata": {
    "execution": {
     "iopub.execute_input": "2022-07-19T09:18:07.199387Z",
     "iopub.status.busy": "2022-07-19T09:18:07.199025Z",
     "iopub.status.idle": "2022-07-19T09:18:07.212804Z",
     "shell.execute_reply": "2022-07-19T09:18:07.211743Z",
     "shell.execute_reply.started": "2022-07-19T09:18:07.199356Z"
    }
   },
   "outputs": [],
   "source": [
    "genome_scores.info() "
   ]
  },
  {
   "cell_type": "code",
   "execution_count": 10,
   "id": "7190ba4a",
   "metadata": {
    "execution": {
     "iopub.execute_input": "2022-07-19T09:18:07.214643Z",
     "iopub.status.busy": "2022-07-19T09:18:07.214133Z",
     "iopub.status.idle": "2022-07-19T09:18:07.233998Z",
     "shell.execute_reply": "2022-07-19T09:18:07.232534Z",
     "shell.execute_reply.started": "2022-07-19T09:18:07.214613Z"
    }
   },
   "outputs": [],
   "source": [
    "genome_tags.info()"
   ]
  },
  {
   "cell_type": "markdown",
   "id": "f195be03",
   "metadata": {},
   "source": [
    "## 2.2 <a id=\"null_values\"><strong>Null Values</strong></a>\n",
    "[Table of Contents](#contents)\n",
    "\n",
    "While imporing a DataFrame from a csv file, blank data entries are usually imported as null value. This can later create problems while operating that data frame, more so during the modelling phase.\n",
    "\n",
    "We will check for null values for every dataset and, if possible/necessary, we will immediately handle these values. "
   ]
  },
  {
   "cell_type": "code",
   "execution_count": 11,
   "id": "d5ec3ac5",
   "metadata": {
    "execution": {
     "iopub.execute_input": "2022-07-19T09:18:07.238664Z",
     "iopub.status.busy": "2022-07-19T09:18:07.238318Z",
     "iopub.status.idle": "2022-07-19T09:18:07.310312Z",
     "shell.execute_reply": "2022-07-19T09:18:07.309374Z",
     "shell.execute_reply.started": "2022-07-19T09:18:07.238633Z"
    }
   },
   "outputs": [],
   "source": [
    "print(\"Train: \")\n",
    "print(str(train_df.isnull().sum()))"
   ]
  },
  {
   "cell_type": "code",
   "execution_count": 12,
   "id": "a9585f6a",
   "metadata": {
    "execution": {
     "iopub.execute_input": "2022-07-19T09:18:07.312418Z",
     "iopub.status.busy": "2022-07-19T09:18:07.311534Z",
     "iopub.status.idle": "2022-07-19T09:18:07.332573Z",
     "shell.execute_reply": "2022-07-19T09:18:07.331644Z",
     "shell.execute_reply.started": "2022-07-19T09:18:07.312380Z"
    }
   },
   "outputs": [],
   "source": [
    "print(\"Test: \")\n",
    "print(str(test_df.isnull().sum()))"
   ]
  },
  {
   "cell_type": "code",
   "execution_count": 13,
   "id": "aa233a4e",
   "metadata": {
    "execution": {
     "iopub.execute_input": "2022-07-19T09:18:07.334515Z",
     "iopub.status.busy": "2022-07-19T09:18:07.334167Z",
     "iopub.status.idle": "2022-07-19T09:18:07.356946Z",
     "shell.execute_reply": "2022-07-19T09:18:07.355374Z",
     "shell.execute_reply.started": "2022-07-19T09:18:07.334483Z"
    }
   },
   "outputs": [],
   "source": [
    "print(\"Movies: \")\n",
    "print(str(movies_df.isnull().sum()))"
   ]
  },
  {
   "cell_type": "code",
   "execution_count": 14,
   "id": "b062aa19",
   "metadata": {
    "execution": {
     "iopub.execute_input": "2022-07-19T09:18:07.361267Z",
     "iopub.status.busy": "2022-07-19T09:18:07.360306Z",
     "iopub.status.idle": "2022-07-19T09:18:07.370941Z",
     "shell.execute_reply": "2022-07-19T09:18:07.369766Z",
     "shell.execute_reply.started": "2022-07-19T09:18:07.361218Z"
    }
   },
   "outputs": [],
   "source": [
    "print(\"Links: \")\n",
    "print(str(links_df.isnull().sum()))"
   ]
  },
  {
   "cell_type": "code",
   "execution_count": 15,
   "id": "d3b77728",
   "metadata": {
    "execution": {
     "iopub.execute_input": "2022-07-19T09:18:07.373507Z",
     "iopub.status.busy": "2022-07-19T09:18:07.372782Z",
     "iopub.status.idle": "2022-07-19T09:18:07.395131Z",
     "shell.execute_reply": "2022-07-19T09:18:07.393987Z",
     "shell.execute_reply.started": "2022-07-19T09:18:07.373464Z"
    }
   },
   "outputs": [],
   "source": [
    "print(\"IMDB: \")\n",
    "print(str(imdb_df.isnull().sum()))"
   ]
  },
  {
   "cell_type": "code",
   "execution_count": 16,
   "id": "26eb5fc7",
   "metadata": {
    "execution": {
     "iopub.execute_input": "2022-07-19T09:18:07.396876Z",
     "iopub.status.busy": "2022-07-19T09:18:07.396542Z",
     "iopub.status.idle": "2022-07-19T09:18:07.459436Z",
     "shell.execute_reply": "2022-07-19T09:18:07.458131Z",
     "shell.execute_reply.started": "2022-07-19T09:18:07.396845Z"
    }
   },
   "outputs": [],
   "source": [
    "print(\"Genome scores: \")\n",
    "print(str(genome_scores.isnull().sum()))"
   ]
  },
  {
   "cell_type": "code",
   "execution_count": 17,
   "id": "039d3b74",
   "metadata": {
    "execution": {
     "iopub.execute_input": "2022-07-19T09:18:07.462010Z",
     "iopub.status.busy": "2022-07-19T09:18:07.461497Z",
     "iopub.status.idle": "2022-07-19T09:18:07.470924Z",
     "shell.execute_reply": "2022-07-19T09:18:07.469794Z",
     "shell.execute_reply.started": "2022-07-19T09:18:07.461964Z"
    }
   },
   "outputs": [],
   "source": [
    "print(\"Genome tags: \")\n",
    "print(str(genome_tags.isnull().sum()))"
   ]
  },
  {
   "cell_type": "markdown",
   "id": "99dc750c",
   "metadata": {},
   "source": [
    "**Links** and **IMDB** have null values. \n",
    "\n",
    "**IMDB** \n",
    "\n",
    "Since **Links** is a mapping dataset between movies and associated IMDB and TMDB entries, we can not impute the missing values using any method since it would corrupt the quality of our output. We will therefore drop the entries with missing values. "
   ]
  },
  {
   "cell_type": "code",
   "execution_count": 18,
   "id": "51d51c40",
   "metadata": {
    "execution": {
     "iopub.execute_input": "2022-07-19T09:18:07.473326Z",
     "iopub.status.busy": "2022-07-19T09:18:07.472474Z",
     "iopub.status.idle": "2022-07-19T09:18:07.494899Z",
     "shell.execute_reply": "2022-07-19T09:18:07.493565Z",
     "shell.execute_reply.started": "2022-07-19T09:18:07.473280Z"
    }
   },
   "outputs": [],
   "source": [
    "# Drop missing rows in Links dataset\n",
    "links_df.dropna(axis=0,inplace=True)\n",
    "# check if drop was successful\n",
    "print(\"Links: \")\n",
    "print(str(links_df.isnull().sum()))"
   ]
  },
  {
   "cell_type": "markdown",
   "id": "0629ff4f",
   "metadata": {},
   "source": [
    "## 2.3 <a id=\"explore_target_tariable\"><strong>Explore Target Variable</strong></a>\n",
    "[Table of Contents](#contents)\n",
    "\n",
    "The target variable is the feature of a dataset that you want to understand more clearly. It is the variable that the user would want to predict using the rest of the dataset. \n",
    "\n",
    "Since we are creating a movie recommender system, we will rely on the rating as the target variable. To explore this variable, we will look into the work we have done so far to help us form questions or hypothesis that will guide our exploration. Some questions we have come up include:\n",
    "\n",
    "1. Who (users) are the top movie raters? \n",
    "2. What is the general nature of ratings?\n",
    "3. Does the number of movies a user has rated and the rating that they have given have a relationship?\n",
    "4. Does the number of ratings a movie has and how highly it has been rated have a relationship?\n",
    "5. Which are the best and worst rated movies of all time?"
   ]
  },
  {
   "cell_type": "markdown",
   "id": "f030bb8f",
   "metadata": {},
   "source": [
    "### 2.3.1 Who (users) are the top movie raters?"
   ]
  },
  {
   "cell_type": "code",
   "execution_count": 19,
   "id": "95fdc1a3",
   "metadata": {
    "execution": {
     "iopub.execute_input": "2022-07-19T09:18:07.496957Z",
     "iopub.status.busy": "2022-07-19T09:18:07.496568Z",
     "iopub.status.idle": "2022-07-19T09:18:07.511061Z",
     "shell.execute_reply": "2022-07-19T09:18:07.509564Z",
     "shell.execute_reply.started": "2022-07-19T09:18:07.496923Z"
    }
   },
   "outputs": [],
   "source": [
    "def top_rater(df, n):\n",
    "    \"\"\"\n",
    "    A function used to count each users number of ratings.\n",
    "    Parameters:\n",
    "        df - the input DataFrame\n",
    "        n - an integer indicating the number of users to output\n",
    "    Returns:\n",
    "        Totals: Print total number of ratings and movies\n",
    "        barplot: graphical representation of number of observations of top n users\n",
    "    \"\"\"\n",
    "    plt.figure(figsize=(20,7))\n",
    "    data = df['userId'].value_counts().head(n)\n",
    "    ax = sns.barplot(x = data.index, y = data, order= data.index)\n",
    "    for p in ax.patches:\n",
    "        ax.text(p.get_x() + p.get_width()/2., p.get_height(), '%d' % int(p.get_height()), fontsize=15, ha='center', va='bottom')\n",
    "    plt.rcParams.update({'font.size': 20})\n",
    "    plt.title(f'Top {n} Users by Number of Ratings', fontsize=20)\n",
    "    plt.xlabel('User ID', fontsize=17)\n",
    "    plt.ylabel('Number of Ratings', fontsize=17)\n",
    "    print(\"Total number of ratings:\\t\",df['userId'].value_counts().head(n).sum(),\n",
    "         \"\\nTotal number of movies:\\t\\t\", df['movieId'].nunique())\n",
    "    plt.show()"
   ]
  },
  {
   "cell_type": "code",
   "execution_count": 20,
   "id": "a6ae1669",
   "metadata": {
    "execution": {
     "iopub.execute_input": "2022-07-19T09:18:07.514264Z",
     "iopub.status.busy": "2022-07-19T09:18:07.512852Z",
     "iopub.status.idle": "2022-07-19T09:18:09.000638Z",
     "shell.execute_reply": "2022-07-19T09:18:08.999379Z",
     "shell.execute_reply.started": "2022-07-19T09:18:07.514212Z"
    }
   },
   "outputs": [],
   "source": [
    "top_rater(train_df,10)"
   ]
  },
  {
   "cell_type": "markdown",
   "id": "82188394",
   "metadata": {},
   "source": [
    "User 72315's count of ratings is relatively high compared to the other nine users. Let us investigate further by looking into how many unique movies have been rated by user 72315 only. "
   ]
  },
  {
   "cell_type": "code",
   "execution_count": 21,
   "id": "58a0a270",
   "metadata": {
    "execution": {
     "iopub.execute_input": "2022-07-19T09:18:09.003020Z",
     "iopub.status.busy": "2022-07-19T09:18:09.002614Z",
     "iopub.status.idle": "2022-07-19T09:18:11.238577Z",
     "shell.execute_reply": "2022-07-19T09:18:11.237654Z",
     "shell.execute_reply.started": "2022-07-19T09:18:09.002985Z"
    }
   },
   "outputs": [],
   "source": [
    "# Exclude user 72315 for EDA\n",
    "no_ratings_outlier_df = train_df[train_df['userId']!=72315]\n",
    "top_rater(no_ratings_outlier_df, 9) # n -1"
   ]
  },
  {
   "cell_type": "code",
   "execution_count": 22,
   "id": "a2e5337f",
   "metadata": {
    "execution": {
     "iopub.execute_input": "2022-07-19T09:18:11.240839Z",
     "iopub.status.busy": "2022-07-19T09:18:11.239936Z",
     "iopub.status.idle": "2022-07-19T09:18:11.247512Z",
     "shell.execute_reply": "2022-07-19T09:18:11.245960Z",
     "shell.execute_reply.started": "2022-07-19T09:18:11.240800Z"
    }
   },
   "outputs": [],
   "source": [
    "# number of 72315's ratings \n",
    "rt_72315=38970 - 26018\n",
    "perc_rt_72315 = (rt_72315/38970) *100\n",
    "print(\"Number of 72315's ratings: \",rt_72315)\n",
    "print(\"Percentage of 72315's ratings: \",round(perc_rt_72315,2),\"%\")"
   ]
  },
  {
   "cell_type": "code",
   "execution_count": 23,
   "id": "46d9cd72",
   "metadata": {
    "execution": {
     "iopub.execute_input": "2022-07-19T09:18:11.250003Z",
     "iopub.status.busy": "2022-07-19T09:18:11.249271Z",
     "iopub.status.idle": "2022-07-19T09:18:11.262859Z",
     "shell.execute_reply": "2022-07-19T09:18:11.261382Z",
     "shell.execute_reply.started": "2022-07-19T09:18:11.249945Z"
    }
   },
   "outputs": [],
   "source": [
    "# number of movies rated by 72315\n",
    "mv_72315 = 48213 - 45844\n",
    "perc_mv_72315 = (mv_72315/48213) *100\n",
    "print(\"Number of movies rated by 72315: \",mv_72315)\n",
    "print(\"Percentage of movies rated by 72315: \",round(perc_mv_72315,2),\"%\")"
   ]
  },
  {
   "cell_type": "markdown",
   "id": "c155f4fa",
   "metadata": {},
   "source": [
    "User 72315 has 12,952 ratings and has rated 2,369 movies. This would lead us to categorize user 72315 as an outlier. It could also be hypothesised that the user has rated several unique movies which may affect our results. "
   ]
  },
  {
   "cell_type": "markdown",
   "id": "007e1628",
   "metadata": {},
   "source": [
    "### 2.3.2. What is the general nature of ratings?"
   ]
  },
  {
   "cell_type": "markdown",
   "id": "5da5e9e8",
   "metadata": {},
   "source": [
    "We will now take a look at the distribution of the ratings in terms of aggregate statistics, i.e., mean, mode and medium. This should help us investigate if the data is distributed normally or if it is skewed."
   ]
  },
  {
   "cell_type": "code",
   "execution_count": 24,
   "id": "194cd9c9",
   "metadata": {
    "execution": {
     "iopub.execute_input": "2022-07-19T09:18:11.265466Z",
     "iopub.status.busy": "2022-07-19T09:18:11.264664Z",
     "iopub.status.idle": "2022-07-19T09:18:11.279502Z",
     "shell.execute_reply": "2022-07-19T09:18:11.278127Z",
     "shell.execute_reply.started": "2022-07-19T09:18:11.265413Z"
    }
   },
   "outputs": [],
   "source": [
    "def ratings_nature(df, column='rating'):\n",
    "    \"\"\"\n",
    "    A function used to plot the distribution of ratings given a dataset.\n",
    "    Parameters:\n",
    "        df - an input DataFrame\n",
    "        column  - a string contaion name of column to be plotted\n",
    "    Returns:\n",
    "        distplot - a distribution plot indicating rating frequencies\n",
    "    \"\"\"\n",
    "    plt.figure(figsize=(20,10))\n",
    "    ax = sns.distplot(df[f'{column}'],bins=10, kde=False, hist_kws=dict(alpha=0.6))\n",
    "    mean = df[f'{column}'].mean()\n",
    "    median = df[f'{column}'].median()\n",
    "    mode = df[f'{column}'].mode().iat[0]\n",
    "    plt.rcParams.update({'font.size': 20})\n",
    "    plt.axvline(x=mean, label = f'mean {round(mean,2)}' , color='#FF0000', lw=3.5, ls = '-.')\n",
    "    plt.axvline(x=median, label = f'median {median}' , color='#FFD700', lw=3.5, ls = '-.')\n",
    "    plt.axvline(x=mode, label = f'mode {mode}' , color='#00FF00', lw=3.5, ls = '-.')\n",
    "    plt.xlim((0.5,5))\n",
    "    plt.ylim((0,2500000))\n",
    "    plt.title(f'Distribution of Ratings', fontsize=20)\n",
    "    plt.xlabel('Rating')\n",
    "    plt.ylabel('Frequency')\n",
    "    plt.legend()\n",
    "    plt.show()"
   ]
  },
  {
   "cell_type": "code",
   "execution_count": 25,
   "id": "8084a46d",
   "metadata": {
    "execution": {
     "iopub.execute_input": "2022-07-19T09:18:11.281636Z",
     "iopub.status.busy": "2022-07-19T09:18:11.281203Z",
     "iopub.status.idle": "2022-07-19T09:18:12.395810Z",
     "shell.execute_reply": "2022-07-19T09:18:12.394436Z",
     "shell.execute_reply.started": "2022-07-19T09:18:11.281592Z"
    }
   },
   "outputs": [],
   "source": [
    "ratings_nature(no_ratings_outlier_df)"
   ]
  },
  {
   "cell_type": "markdown",
   "id": "31d8eb66",
   "metadata": {},
   "source": [
    "The distibution of the ratings is right skewed with the mean and mode being about 3.5 and the most common rating (mediun) being 4. This suggests that users rate the movies they like more than the ones they don't. From this, we can hypothesize that viewers most commonly watch and rate those movies they find interesting. "
   ]
  },
  {
   "cell_type": "markdown",
   "id": "a746666d",
   "metadata": {},
   "source": [
    "### 2.3.3. Does the number of movies a user has rated and the rating that they have given have a relationship?"
   ]
  },
  {
   "cell_type": "markdown",
   "id": "d1e1f16f",
   "metadata": {},
   "source": [
    "Using the dataframe without the outlier (no_ratings_outlier_df), we will investigate the relationship, if any, between the number of movies a user has rated and the ratings they have given. \n",
    "\n",
    "If there is a relationsship, this might mean the two are highly correlated."
   ]
  },
  {
   "cell_type": "code",
   "execution_count": 26,
   "id": "170b3780",
   "metadata": {
    "execution": {
     "iopub.execute_input": "2022-07-19T09:18:12.399985Z",
     "iopub.status.busy": "2022-07-19T09:18:12.397610Z",
     "iopub.status.idle": "2022-07-19T09:18:12.411837Z",
     "shell.execute_reply": "2022-07-19T09:18:12.410303Z",
     "shell.execute_reply.started": "2022-07-19T09:18:12.399921Z"
    }
   },
   "outputs": [],
   "source": [
    "def movieNo_ratings_relation(df, color='#64C3EB', column='userId'):\n",
    "    \"\"\"\n",
    "    A function that produces a scatterplot depicting the  \n",
    "    movies a user has rated vs the rating that they have given \n",
    "    Parameters:\n",
    "        df (DataFrame): input DataFrame\n",
    "        color (str): plot colour\n",
    "        column (str): column to plot\n",
    "    Returns\n",
    "    -------\n",
    "        scatterplot (NoneType): scatterplot of mean number of ratings\n",
    "    \"\"\"\n",
    "    plt.figure(figsize=(20,10))\n",
    "    plt.rcParams.update({'font.size': 20})\n",
    "    mean_ratings = df.groupby(f'{column}')['rating'].mean()\n",
    "    user_counts = df.groupby(f'{column}')['movieId'].count().values\n",
    "    sns.scatterplot(x=mean_ratings, y = user_counts, color=color)\n",
    "    plt.title(f'Mean Ratings by Number of Ratings', fontsize=20)\n",
    "    plt.xlabel('Rating')\n",
    "    plt.ylabel('Number of Ratings')\n",
    "    plt.show()"
   ]
  },
  {
   "cell_type": "code",
   "execution_count": 27,
   "id": "c39e97d2",
   "metadata": {
    "execution": {
     "iopub.execute_input": "2022-07-19T09:18:12.415320Z",
     "iopub.status.busy": "2022-07-19T09:18:12.414213Z",
     "iopub.status.idle": "2022-07-19T09:18:14.219433Z",
     "shell.execute_reply": "2022-07-19T09:18:14.217854Z",
     "shell.execute_reply.started": "2022-07-19T09:18:12.415261Z"
    }
   },
   "outputs": [],
   "source": [
    "movieNo_ratings_relation(no_ratings_outlier_df)"
   ]
  },
  {
   "cell_type": "markdown",
   "id": "edcfaa62",
   "metadata": {},
   "source": [
    "Had the points been clearly clustered or closely follow a curve/ line, the relationship would have been strong. But since the points are scattered all over the plot, the relationship here is weak. "
   ]
  },
  {
   "cell_type": "markdown",
   "id": "f4f61603",
   "metadata": {},
   "source": [
    "### 2.3.4. Does the number of ratings a movie has and how highly it has been rated have a relationship?"
   ]
  },
  {
   "cell_type": "markdown",
   "id": "21bc3224",
   "metadata": {},
   "source": [
    "Let us explore the correlation between these two as well. "
   ]
  },
  {
   "cell_type": "code",
   "execution_count": 28,
   "id": "5ad2c38f",
   "metadata": {
    "execution": {
     "iopub.execute_input": "2022-07-19T09:18:14.222650Z",
     "iopub.status.busy": "2022-07-19T09:18:14.221815Z",
     "iopub.status.idle": "2022-07-19T09:18:15.345908Z",
     "shell.execute_reply": "2022-07-19T09:18:15.344599Z",
     "shell.execute_reply.started": "2022-07-19T09:18:14.222595Z"
    }
   },
   "outputs": [],
   "source": [
    "movieNo_ratings_relation(no_ratings_outlier_df, column='movieId')"
   ]
  },
  {
   "cell_type": "markdown",
   "id": "75eee599",
   "metadata": {},
   "source": [
    "There is clear clustering towards highly rated movies. This could be hypothesized as \n",
    "1. highly rated movies are more likely to be recommended by users\n",
    "2. users seldom make bad recommendations"
   ]
  },
  {
   "cell_type": "markdown",
   "id": "dee7ccc5",
   "metadata": {},
   "source": [
    "### 2.3.5. Which are the best and worst rated movies of all time?"
   ]
  },
  {
   "cell_type": "code",
   "execution_count": 29,
   "id": "ef71fa7d",
   "metadata": {
    "execution": {
     "iopub.execute_input": "2022-07-19T09:18:15.354799Z",
     "iopub.status.busy": "2022-07-19T09:18:15.354329Z",
     "iopub.status.idle": "2022-07-19T09:18:15.370857Z",
     "shell.execute_reply": "2022-07-19T09:18:15.369167Z",
     "shell.execute_reply.started": "2022-07-19T09:18:15.354763Z"
    }
   },
   "outputs": [],
   "source": [
    "def all_time_ratings(count, n, color='#64C3EB', best=True, method='mean'):\n",
    "    \"\"\"\n",
    "    A function that plots given ratings in a scatterplot\n",
    "    Parameters:\n",
    "        count - an integer number of ratings margin\n",
    "        n - an integer indicating number of movies to plot\n",
    "        color - a string indicating the plot points colour\n",
    "        best - boolean indicating column to plot\n",
    "        method - a string indicating the statistical aggregate measure to be used\n",
    "    Returns:\n",
    "        scatterplot - a scatterplot of the mean number of ratings\n",
    "    \"\"\"\n",
    "    \n",
    "    # creating a new mean and count dataframe\n",
    "    if method == 'mean':\n",
    "        movie_average_ratings = pd.DataFrame(no_ratings_outlier_df.join(movies_df, on='movieId', how='left').groupby(['movieId', 'title'])['rating'].mean())\n",
    "    else:\n",
    "        movie_average_ratings = pd.DataFrame(no_ratings_outlier_df.join(movies_df, on='movieId', how='left').groupby(['movieId', 'title'])['rating'].median())\n",
    "    movie_average_ratings['count'] = no_ratings_outlier_df.groupby('movieId')['userId'].count().values\n",
    "    movie_average_ratings.reset_index(inplace=True)\n",
    "    movie_average_ratings.set_index('movieId', inplace=True)\n",
    "\n",
    "    # Remove movies that have been rated fewer than n times\n",
    "    data = movie_average_ratings[movie_average_ratings['count']>count]\n",
    "    data.sort_values('rating', inplace= True,ascending=False)\n",
    "    if best == True:\n",
    "        plot = data.head(n).sort_values('rating', ascending=True)\n",
    "        title='Best Rated'\n",
    "    else:\n",
    "        plot = data.tail(n).sort_values('rating', ascending=False)\n",
    "        title='Worst Rated'\n",
    "    plt.figure(figsize=(20,15))\n",
    "    sns.set(font_scale=1.5)\n",
    "    sns.scatterplot(x=plot['rating'], y=plot['title'], size=plot['count'], color=color)\n",
    "    plt.xlabel('Rating')\n",
    "    plt.ylabel('')\n",
    "    plt.tick_params(axis='y', which='both', labelleft=False, labelright=True)\n",
    "    plt.title(f'Top {n} {title} Movies with Over {count} Ratings', fontsize=20)\n",
    "    plt.show()"
   ]
  },
  {
   "cell_type": "code",
   "execution_count": 30,
   "id": "df7e71d5",
   "metadata": {
    "execution": {
     "iopub.execute_input": "2022-07-19T09:18:15.373530Z",
     "iopub.status.busy": "2022-07-19T09:18:15.373122Z",
     "iopub.status.idle": "2022-07-19T09:18:20.747769Z",
     "shell.execute_reply": "2022-07-19T09:18:20.746667Z",
     "shell.execute_reply.started": "2022-07-19T09:18:15.373488Z"
    }
   },
   "outputs": [],
   "source": [
    "# top 10 best rated movies of all time\n",
    "all_time_ratings(10000, 10, '#4D17A0', True, 'mean')"
   ]
  },
  {
   "cell_type": "markdown",
   "id": "944e0dd8",
   "metadata": {},
   "source": [
    "Something worth noting is that the top 10 best rated movies were all produced before the year 2000. This could lead to the hypothesis \n",
    "1. movies post 2000 have been watched more often than the relatively newer movies\n",
    "2. users prefer older movies to relatively newer ones"
   ]
  },
  {
   "cell_type": "code",
   "execution_count": 31,
   "id": "68d7ab99",
   "metadata": {
    "execution": {
     "iopub.execute_input": "2022-07-19T09:18:20.749779Z",
     "iopub.status.busy": "2022-07-19T09:18:20.749236Z",
     "iopub.status.idle": "2022-07-19T09:18:26.340437Z",
     "shell.execute_reply": "2022-07-19T09:18:26.338597Z",
     "shell.execute_reply.started": "2022-07-19T09:18:20.749745Z"
    }
   },
   "outputs": [],
   "source": [
    "# 10 worst rated movies of all time\n",
    "all_time_ratings(500, 10, '#4D17A0', False, 'mean')"
   ]
  },
  {
   "cell_type": "markdown",
   "id": "50edd95e",
   "metadata": {},
   "source": [
    "With 6/10 movies from post 2000 era on this list, our hypothesis that movies post 2000 have been watched more often than the relatively newer movies seems almost to hold. These results cannot, however, be used to confidently back up our hypothesis that users prefer older movies to relatively newer ones. "
   ]
  },
  {
   "cell_type": "markdown",
   "id": "3492606b",
   "metadata": {},
   "source": [
    "## 2.4 <a id=\"explore_genre_variable\"><strong>Explore Genre Variable</strong></a>\n",
    "[Table of Contents](#contents)\n",
    "\n",
    "To make informed recommendation to a user on movies to watch, we need to explore how movie genres are favored by other users with similare tastes in movies. Movies can span several genres which makes them classified as multi-label. \n",
    "\n",
    "To explore the genre variable, we will look into the work we have done so far to help us form questions or hypothesis that will guide our exploration. Some questions we have come up with include:\n",
    "\n",
    "1. What is the most commonly watched genre?\n",
    "2. How popular are the different genres? \n",
    "3. What are the distribution of ratings per genre?\n",
    "\n",
    "Let us start by extracting a set of all genre names within the **movies_df** dataset."
   ]
  },
  {
   "cell_type": "code",
   "execution_count": 32,
   "id": "c96ea955",
   "metadata": {
    "execution": {
     "iopub.execute_input": "2022-07-19T09:18:26.343380Z",
     "iopub.status.busy": "2022-07-19T09:18:26.342388Z",
     "iopub.status.idle": "2022-07-19T09:18:27.195385Z",
     "shell.execute_reply": "2022-07-19T09:18:27.193927Z",
     "shell.execute_reply.started": "2022-07-19T09:18:26.343323Z"
    }
   },
   "outputs": [],
   "source": [
    "genre_name_set = set()\n",
    "for i in range(len(movies_df['genres'])):\n",
    "    for genre_name in movies_df['genres'].iloc[i].split('|'):\n",
    "        genre_name_set.add(genre_name)\n",
    "genre_list = sorted([genre_name for genre_name in genre_name_set if genre_name != \"\"])"
   ]
  },
  {
   "cell_type": "code",
   "execution_count": 33,
   "id": "8e30ff02",
   "metadata": {
    "execution": {
     "iopub.execute_input": "2022-07-19T09:18:27.198000Z",
     "iopub.status.busy": "2022-07-19T09:18:27.197402Z",
     "iopub.status.idle": "2022-07-19T09:18:27.206598Z",
     "shell.execute_reply": "2022-07-19T09:18:27.205146Z",
     "shell.execute_reply.started": "2022-07-19T09:18:27.197946Z"
    }
   },
   "outputs": [],
   "source": [
    "count=0\n",
    "for genre_name in genre_list:\n",
    "    print(genre_name)\n",
    "    count= count+1\n",
    "print(' \\n \\nTotal number of genres: ', count)"
   ]
  },
  {
   "cell_type": "markdown",
   "id": "e9457d1a",
   "metadata": {},
   "source": [
    "It can be observed that IMAX has been listed as a genre in as much as it isn't. It is a proprietary system for mass-viewings."
   ]
  },
  {
   "cell_type": "markdown",
   "id": "3d292284",
   "metadata": {},
   "source": [
    "### 2.4.1. What is the most commonly watched genre?"
   ]
  },
  {
   "cell_type": "code",
   "execution_count": 34,
   "id": "9254a759",
   "metadata": {
    "execution": {
     "iopub.execute_input": "2022-07-19T09:18:27.209793Z",
     "iopub.status.busy": "2022-07-19T09:18:27.208586Z",
     "iopub.status.idle": "2022-07-19T09:18:27.221693Z",
     "shell.execute_reply": "2022-07-19T09:18:27.220252Z",
     "shell.execute_reply.started": "2022-07-19T09:18:27.209676Z"
    }
   },
   "outputs": [],
   "source": [
    "def genre_frequency(df, column):\n",
    "    \"\"\"\n",
    "    A function that counts the number of occurences of metadata\n",
    "    Parameters:\n",
    "        df - an input DataFrame that contains the movie metadata\n",
    "        column - a string indicating the target column from which to extract features \n",
    "    Returns:\n",
    "        df - a dataframe containing 2 columns: target column and count of it's occurences\n",
    "             within the passed dataframe (df)\n",
    "        \n",
    "    \"\"\"\n",
    "    # create a dictionary to store values\n",
    "    df = df.dropna(axis=0)\n",
    "    genre_dict = {f'{column}': list(),\n",
    "                 'count': list(),}\n",
    "    # extract a list containing all possible genres\n",
    "    for movie in range(len(df)):\n",
    "        gens = df[f'{column}'].iloc[movie].split('|')\n",
    "        for gen in gens:\n",
    "            if gen not in genre_dict[f'{column}']:\n",
    "                genre_dict[f'{column}'].append(gen)\n",
    "    # count how many times each genre occurs\n",
    "    for genre in genre_dict[f'{column}']:\n",
    "        count = 0\n",
    "        for movie in range(len(df)):\n",
    "            gens = df[f'{column}'].iloc[movie].split('|')\n",
    "            if genre in gens:\n",
    "                count += 1\n",
    "        genre_dict['count'].append(count)\n",
    "        \n",
    "    # calculate metrics\n",
    "    data = pd.DataFrame(genre_dict)\n",
    "    print('Calculations Completed!')\n",
    "    return data"
   ]
  },
  {
   "cell_type": "code",
   "execution_count": 35,
   "id": "bad7e7e4",
   "metadata": {
    "execution": {
     "iopub.execute_input": "2022-07-19T09:18:27.224826Z",
     "iopub.status.busy": "2022-07-19T09:18:27.223828Z",
     "iopub.status.idle": "2022-07-19T09:18:43.915417Z",
     "shell.execute_reply": "2022-07-19T09:18:43.913895Z",
     "shell.execute_reply.started": "2022-07-19T09:18:27.224790Z"
    }
   },
   "outputs": [],
   "source": [
    "genres = genre_frequency(movies_df, 'genres')"
   ]
  },
  {
   "cell_type": "markdown",
   "id": "412a90ee",
   "metadata": {},
   "source": [
    "Let us draw a bar plot to represent the above information."
   ]
  },
  {
   "cell_type": "code",
   "execution_count": 36,
   "id": "03bb8e6e",
   "metadata": {
    "execution": {
     "iopub.execute_input": "2022-07-19T09:18:43.918713Z",
     "iopub.status.busy": "2022-07-19T09:18:43.917440Z",
     "iopub.status.idle": "2022-07-19T09:18:44.317884Z",
     "shell.execute_reply": "2022-07-19T09:18:44.316394Z",
     "shell.execute_reply.started": "2022-07-19T09:18:43.918658Z"
    }
   },
   "outputs": [],
   "source": [
    "genres=genres.sort_values(by = 'count', ascending=False)\n",
    "plt.figure(figsize=(20,10))\n",
    "ax = sns.barplot(y = genres['genres'], x = genres['count'], palette='husl', orient='h')\n",
    "plt.title(f'Number of Movies Per Genre', fontsize=20)\n",
    "plt.ylabel('Genre')\n",
    "plt.xlabel('Count')\n",
    "plt.show()"
   ]
  },
  {
   "cell_type": "markdown",
   "id": "61127724",
   "metadata": {},
   "source": [
    "The following observations can be drawn from the above graph:\n",
    "1. The most frequently occuring genre in this database is **Drama**. \n",
    "2. Slightly over 5000 movies don't have a genre tag. \n",
    "\n",
    "During pre-processing, we will explore the use of IMDB and TMDB databases to fill in these missing genre data as well as recategorizing the movies tagged as IMAX. "
   ]
  },
  {
   "cell_type": "markdown",
   "id": "66ba62e7",
   "metadata": {},
   "source": [
    "### 2.4.3. What are the distribution of ratings per genre?"
   ]
  },
  {
   "cell_type": "code",
   "execution_count": 37,
   "id": "888ef6e1",
   "metadata": {
    "execution": {
     "iopub.execute_input": "2022-07-19T09:18:44.320973Z",
     "iopub.status.busy": "2022-07-19T09:18:44.320145Z",
     "iopub.status.idle": "2022-07-19T09:18:44.331923Z",
     "shell.execute_reply": "2022-07-19T09:18:44.330690Z",
     "shell.execute_reply.started": "2022-07-19T09:18:44.320921Z"
    }
   },
   "outputs": [],
   "source": [
    "def mean_genre_ratings(feat_df, ratings = no_ratings_outlier_df, movies = movies_df, metadata = imdb_df, column = 'genres'):\n",
    "    \"\"\"\n",
    "    A function that calculates the mean ratings per genre\n",
    "    Parameters:\n",
    "        feat_df - an input DataFrame that contains the genre dataset\n",
    "        ratings - an input DataFrame that contains no_ratings_outlier_df\n",
    "        movies - an input DataFrame that contains movie_df\n",
    "        metadata - an input DataFrame that contains the IMDB metadata\n",
    "        column - a string indicating the target column from which to extract features \n",
    "    Returns:\n",
    "        df - a dataframe containing 2 columns: target column and count of it's occurences\n",
    "             within the passed dataframe (df)\n",
    "    \"\"\"\n",
    "    mean_ratings = pd.DataFrame(ratings.join(movies, on='movieId', how='left').groupby(['movieId'])['rating'].mean())\n",
    "    movie_eda = movies.copy()\n",
    "    movie_eda = movie_eda.join(mean_ratings, on = 'movieId', how = 'left')\n",
    "\n",
    "    # Exclude missing values\n",
    "    movie_eda = movie_eda\n",
    "    movie_eda2 = movie_eda[movie_eda['rating'].notnull()]\n",
    "\n",
    "    means = []\n",
    "    for feat in feat_df[f'{column}']:\n",
    "        mean = round(movie_eda2[movie_eda2[f'{column}'].str.contains(feat)]['rating'].mean(),2)\n",
    "        means.append(mean)\n",
    "    return means"
   ]
  },
  {
   "cell_type": "code",
   "execution_count": 38,
   "id": "2f75a16a",
   "metadata": {
    "execution": {
     "iopub.execute_input": "2022-07-19T09:18:44.333804Z",
     "iopub.status.busy": "2022-07-19T09:18:44.333451Z",
     "iopub.status.idle": "2022-07-19T09:18:47.197936Z",
     "shell.execute_reply": "2022-07-19T09:18:47.196999Z",
     "shell.execute_reply.started": "2022-07-19T09:18:44.333772Z"
    }
   },
   "outputs": [],
   "source": [
    "genres['mean_rating'] = mean_genre_ratings(genres)"
   ]
  },
  {
   "cell_type": "markdown",
   "id": "a9e90081",
   "metadata": {},
   "source": [
    "Let us see the list of genres in descending order of their mean ratings."
   ]
  },
  {
   "cell_type": "code",
   "execution_count": 39,
   "id": "0ef6b8c2",
   "metadata": {
    "execution": {
     "iopub.execute_input": "2022-07-19T09:18:47.199796Z",
     "iopub.status.busy": "2022-07-19T09:18:47.199438Z",
     "iopub.status.idle": "2022-07-19T09:18:47.223688Z",
     "shell.execute_reply": "2022-07-19T09:18:47.222039Z",
     "shell.execute_reply.started": "2022-07-19T09:18:47.199765Z"
    }
   },
   "outputs": [],
   "source": [
    "genres = genres.sort_values(by = 'mean_rating', ascending=False)\n",
    "genres"
   ]
  },
  {
   "cell_type": "markdown",
   "id": "6697738d",
   "metadata": {},
   "source": [
    "IMAX and Film-Noir were the two least rated genres and yet they have a high average rating. From this we can draw the hypothesis that they have a small but devoted audence. \n",
    "\n",
    "Let us plot this information in a graph."
   ]
  },
  {
   "cell_type": "code",
   "execution_count": 40,
   "id": "084381fe",
   "metadata": {
    "execution": {
     "iopub.execute_input": "2022-07-19T09:18:47.226551Z",
     "iopub.status.busy": "2022-07-19T09:18:47.225348Z",
     "iopub.status.idle": "2022-07-19T09:18:47.664157Z",
     "shell.execute_reply": "2022-07-19T09:18:47.662839Z",
     "shell.execute_reply.started": "2022-07-19T09:18:47.226505Z"
    }
   },
   "outputs": [],
   "source": [
    "count_filt = 500\n",
    "plt.figure(figsize=(20,10))\n",
    "plot_data = genres[genres['count']>count_filt]\n",
    "mean = plot_data['mean_rating'].mean()\n",
    "min_ = plot_data['mean_rating'].min()\n",
    "max_ = plot_data['mean_rating'].max()\n",
    "sns.barplot(y = plot_data['genres'], x = plot_data['mean_rating'], order = plot_data['genres'], orient='h',palette='husl')\n",
    "plt.axvline(x=mean, label = f'mean {round(mean,1)}' , color='black', lw=1, ls ='--')\n",
    "plt.axvline(x=min_, label = f'min {round(min_,1)}' , color='#4D17A0', lw=1, ls = '--')\n",
    "plt.axvline(x=max_, label = f'max {max_}' , color='#4DA017', lw=1,ls = '--')\n",
    "plt.title(f'Mean Rating Per Genre', fontsize=14)\n",
    "plt.ylabel('Genre')\n",
    "plt.xlabel('Mean Rating')\n",
    "plt.legend(loc='lower center')\n",
    "plt.show()"
   ]
  },
  {
   "cell_type": "markdown",
   "id": "67a68df9",
   "metadata": {},
   "source": [
    "## 2.5 <a id=\"explore_imdb_dataset\"><strong>Explore IMDB Dataset</strong></a>\n",
    "[Table of Contents](#contents)\n",
    "\n",
    "The IMDB dataset has brought in a new variable, **director**. Directors basically give a film direction by visualizing the script while guiding the actors and technical crew to capture the vision for the screen. They control the film's dramatic and artistic aspects and as such, they not only influence the movie but also have a fanbase.\n",
    "\n",
    "\n",
    "To explore the director variable, we will look into the work we have done so far to help us form questions or hypothesis that will guide our exploration. Some questions we have come up with include:\n",
    "\n",
    "1. Who are the most frequent directors?\n",
    "2. Who are the most and least popular directors? "
   ]
  },
  {
   "cell_type": "markdown",
   "id": "a052be57",
   "metadata": {},
   "source": [
    "### 2.5.1. Who are the most frequent directors?"
   ]
  },
  {
   "cell_type": "code",
   "execution_count": 41,
   "id": "529bbd25",
   "metadata": {
    "execution": {
     "iopub.execute_input": "2022-07-19T09:18:47.665846Z",
     "iopub.status.busy": "2022-07-19T09:18:47.665527Z",
     "iopub.status.idle": "2022-07-19T09:18:47.674470Z",
     "shell.execute_reply": "2022-07-19T09:18:47.672542Z",
     "shell.execute_reply.started": "2022-07-19T09:18:47.665818Z"
    }
   },
   "outputs": [],
   "source": [
    "def director_frequency(df, count = 10):\n",
    "    \"\"\"\n",
    "    A function that counts the most common dircetors in a DataFrame\n",
    "    Parameters:\n",
    "        df - an input dataframe containing imdb metadata\n",
    "        count - an integer to filter directors with fewer than count films\n",
    "        \n",
    "    Returns:\n",
    "        directors - an output DataFrame containing frequency count per director\n",
    "    \"\"\"\n",
    "    directors = pd.DataFrame(df['director'].value_counts()).reset_index()\n",
    "    directors.columns = ['director', 'count']\n",
    "    # Lets only take directors who have made 10 or more movies otherwise we will have to analyze 11000 directors\n",
    "    directors = directors[directors['count']>=count]\n",
    "    return directors.sort_values('count', ascending = False)"
   ]
  },
  {
   "cell_type": "code",
   "execution_count": 42,
   "id": "dae1c93d",
   "metadata": {
    "execution": {
     "iopub.execute_input": "2022-07-19T09:18:47.676868Z",
     "iopub.status.busy": "2022-07-19T09:18:47.676070Z",
     "iopub.status.idle": "2022-07-19T09:18:47.706365Z",
     "shell.execute_reply": "2022-07-19T09:18:47.705452Z",
     "shell.execute_reply.started": "2022-07-19T09:18:47.676827Z"
    }
   },
   "outputs": [],
   "source": [
    "directors_count = director_frequency(imdb_df)\n",
    "directors_count"
   ]
  },
  {
   "cell_type": "markdown",
   "id": "114b096a",
   "metadata": {},
   "source": [
    "There are about 37 directors in our dataset who have directed 10 or more movies. Apart from these, there are also some movies that do not have a director listed. We will also try and fill in these missing values during pre processing using the IMDB dataset."
   ]
  },
  {
   "cell_type": "markdown",
   "id": "5a1d071e",
   "metadata": {},
   "source": [
    "### 2.5.2. Who are the most and least popular directors? "
   ]
  },
  {
   "cell_type": "code",
   "execution_count": 43,
   "id": "fd4089ed",
   "metadata": {
    "execution": {
     "iopub.execute_input": "2022-07-19T09:18:47.708577Z",
     "iopub.status.busy": "2022-07-19T09:18:47.707709Z",
     "iopub.status.idle": "2022-07-19T09:18:47.716576Z",
     "shell.execute_reply": "2022-07-19T09:18:47.715186Z",
     "shell.execute_reply.started": "2022-07-19T09:18:47.708541Z"
    }
   },
   "outputs": [],
   "source": [
    "def director_popularity(df):\n",
    "    \"\"\"\n",
    "    A function that calculates the popularity of the directors \n",
    "    by calculating mean rating for each director \n",
    "    \n",
    "    Parameters:\n",
    "        df - an input dataframe containing imdb metadata\n",
    "    Returns:\n",
    "        df - a dataset containing an ordered list of directors\n",
    "            based on their mean ratings\n",
    "    \"\"\"\n",
    "    #df.set_index('director', inplace=True)\n",
    "\n",
    "    direct_ratings = []\n",
    "    directors_eda = no_ratings_outlier_df.join(imdb_df, on = 'movieId', how = 'left')\n",
    "    for director in df.index:\n",
    "        rating = round(directors_eda[directors_eda['director']==director]['rating'].mean(),2)\n",
    "        direct_ratings.append(rating)\n",
    "    df['mean_rating'] = direct_ratings\n",
    "    return df.sort_values('mean_rating', ascending = False)"
   ]
  },
  {
   "cell_type": "code",
   "execution_count": 44,
   "id": "75013bec",
   "metadata": {
    "execution": {
     "iopub.execute_input": "2022-07-19T09:18:47.718847Z",
     "iopub.status.busy": "2022-07-19T09:18:47.718249Z",
     "iopub.status.idle": "2022-07-19T09:19:39.057970Z",
     "shell.execute_reply": "2022-07-19T09:19:39.055575Z",
     "shell.execute_reply.started": "2022-07-19T09:18:47.718810Z"
    }
   },
   "outputs": [],
   "source": [
    "directors = director_popularity(directors_count)\n",
    "directors.head()"
   ]
  },
  {
   "cell_type": "markdown",
   "id": "42677142",
   "metadata": {},
   "source": [
    "Let us plot this information on a graph."
   ]
  },
  {
   "cell_type": "code",
   "execution_count": 45,
   "id": "78ffdc19",
   "metadata": {
    "execution": {
     "iopub.execute_input": "2022-07-19T09:19:39.061197Z",
     "iopub.status.busy": "2022-07-19T09:19:39.060595Z",
     "iopub.status.idle": "2022-07-19T09:19:39.627148Z",
     "shell.execute_reply": "2022-07-19T09:19:39.625478Z",
     "shell.execute_reply.started": "2022-07-19T09:19:39.061133Z"
    }
   },
   "outputs": [],
   "source": [
    "plt.figure(figsize=(20,12))\n",
    "plot_data = directors.copy()\n",
    "mean = plot_data['mean_rating'].mean()\n",
    "min_ = plot_data['mean_rating'].min()\n",
    "max_ = round(plot_data['mean_rating'].max(),2)\n",
    "sns.barplot(y = plot_data.index, x = plot_data['mean_rating'], order = plot_data.index, orient='h',palette='husl')\n",
    "plt.axvline(x=mean, label = f'mean {round(mean,1)}' , color='black', lw=1, ls ='--')\n",
    "plt.axvline(x=min_, label = f'min {round(min_,1)}' , color='#4D17A0', lw=1, ls = '--')\n",
    "plt.axvline(x=max_, label = f'max {max_}' , color='#4DA017', lw=1,ls = '--')\n",
    "plt.title('Mean Rating Per Director', fontsize=14)\n",
    "plt.ylabel('Directors')\n",
    "plt.xlabel('Mean Rating')\n",
    "plt.legend(loc='lower center')\n",
    "plt.show()"
   ]
  },
  {
   "cell_type": "markdown",
   "id": "e7397874",
   "metadata": {
    "papermill": {
     "duration": 0.01004,
     "end_time": "2022-07-18T13:56:42.924343",
     "exception": false,
     "start_time": "2022-07-18T13:56:42.914303",
     "status": "completed"
    },
    "tags": []
   },
   "source": [
    "# 3.0 <a id=\"preprocessing\"><strong>DATA PREPROCESSING</strong></a>\n",
    "[Table of Contents](#contents)\n",
    "\n",
    " Data preprocessing is the process of transforming raw data into an understandable format. It is also an important step in data mining as we cannot work with raw data. The quality of the data should be checked before applying machine learning or data mining algorithms.\n",
    "\n",
    "**Why is Data preprocessing important?**\n",
    "\n",
    "Preprocessing of data is mainly to check the data quality. The quality can be checked by the following:\n",
    "\n",
    "* Accuracy: To check whether the data entered is correct or not.\n",
    "* Completeness: To check whether the data is available or not recorded.\n",
    "* Consistency: To check whether the same data is kept in all the places that do or do not match.\n",
    "* Timeliness: The data should be updated correctly.\n",
    "* Believability: The data should be trustable.\n",
    "* Interpretability: The understandability of the data. \n",
    "\n",
    "**Major Tasks in Data Preprocessing are:**\n",
    "\n",
    "* Data cleaning\n",
    "* Data integration\n",
    "* Data reduction\n",
    "* Data transformation\n",
    "\n",
    "![](https://miro.medium.com/max/672/1*NSmq-HYqbK0XdNi_pL3JIg.png)\n",
    "\n",
    "[Source](https://www.analyticsvidhya.com/blog/2021/08/data-preprocessing-in-data-mining-a-hands-on-guide/)"
   ]
  },
  {
   "cell_type": "markdown",
   "id": "e8e27785",
   "metadata": {},
   "source": [
    "Steps that will be taken during this process include:\n",
    "1. **t-distributed Stochastic Neighbour Embedding**\n",
    "2. **principal component analysis**\n",
    "3. **cluster analysis**"
   ]
  },
  {
   "cell_type": "markdown",
   "id": "008399e3",
   "metadata": {},
   "source": [
    "## 3.1 <a id=\"multidimensional_scaling\"><strong>t-distributed Stochastic Neighbour Embedding (t-SNE)</strong></a>\n",
    "[Table of Contents](#contents)\n",
    "\n",
    "t-distributed Stochastic Neighbour Embedding (t-SNE)\n",
    "t-SNE is a very complex technique, which can often yield truly stunning results when reducing high-dimensional data sets. Here is a pretty good explanation of t-SNE from Wikipedia:\n",
    "\n",
    ">\"The t-SNE algorithm comprises two main stages. First, t-SNE constructs a probability distribution over pairs of high-dimensional objects in such a way that similar objects have a high probability of being picked, whilst dissimilar points have an extremely small probability of being picked. Second, t-SNE defines a similar probability distribution over the points in the low-dimensional map, and it minimizes the Kullback–Leibler divergence between the two distributions with respect to the locations of the points in the map. Note that whilst the original algorithm uses the Euclidean distance between objects as the base of its similarity metric, this should be changed as appropriate.\"\n",
    "\n",
    "The important points of t-SNE include:\n",
    "\n",
    "* Non-linear transformation;\n",
    "* Preserves both local and global structure (usually); and\n",
    "* Computationally expensive."
   ]
  },
  {
   "cell_type": "markdown",
   "id": "75ffa907",
   "metadata": {},
   "source": [
    "We will start by subsetting the data so as to cut down the computation time. We will also scale the data in as much as the scores are already in a 0-1 scale. "
   ]
  },
  {
   "cell_type": "code",
   "execution_count": 46,
   "id": "d0a32d2b",
   "metadata": {
    "execution": {
     "iopub.execute_input": "2022-07-19T09:19:39.630431Z",
     "iopub.status.busy": "2022-07-19T09:19:39.629507Z",
     "iopub.status.idle": "2022-07-19T09:19:39.637024Z",
     "shell.execute_reply": "2022-07-19T09:19:39.635147Z",
     "shell.execute_reply.started": "2022-07-19T09:19:39.630389Z"
    }
   },
   "outputs": [],
   "source": [
    "# subset data \n",
    "genome_score = genome_scores[:10000000]"
   ]
  },
  {
   "cell_type": "code",
   "execution_count": 47,
   "id": "2dfc5bcd",
   "metadata": {
    "execution": {
     "iopub.execute_input": "2022-07-19T09:19:39.640012Z",
     "iopub.status.busy": "2022-07-19T09:19:39.639127Z",
     "iopub.status.idle": "2022-07-19T09:19:40.320914Z",
     "shell.execute_reply": "2022-07-19T09:19:40.319453Z",
     "shell.execute_reply.started": "2022-07-19T09:19:39.639952Z"
    }
   },
   "outputs": [],
   "source": [
    "# scale data\n",
    "scaler_tsne = StandardScaler()\n",
    "tsne_genome = scaler_tsne.fit_transform(genome_score.sample(frac=0.0001))"
   ]
  },
  {
   "cell_type": "markdown",
   "id": "eb497c68",
   "metadata": {},
   "source": [
    "Let us fit our data."
   ]
  },
  {
   "cell_type": "code",
   "execution_count": 48,
   "id": "da256879",
   "metadata": {
    "execution": {
     "iopub.execute_input": "2022-07-19T09:19:40.323957Z",
     "iopub.status.busy": "2022-07-19T09:19:40.323285Z",
     "iopub.status.idle": "2022-07-19T09:19:48.281501Z",
     "shell.execute_reply": "2022-07-19T09:19:48.280244Z",
     "shell.execute_reply.started": "2022-07-19T09:19:40.323787Z"
    }
   },
   "outputs": [],
   "source": [
    "tsne = TSNE(3, n_jobs = -1, \n",
    "            verbose = 2, \n",
    "            perplexity = 10, \n",
    "            learning_rate = 0.1)\n",
    "tsne.fit(tsne_genome)"
   ]
  },
  {
   "cell_type": "code",
   "execution_count": 49,
   "id": "d6eda90e",
   "metadata": {
    "execution": {
     "iopub.execute_input": "2022-07-19T09:19:48.286962Z",
     "iopub.status.busy": "2022-07-19T09:19:48.285515Z",
     "iopub.status.idle": "2022-07-19T09:19:48.644907Z",
     "shell.execute_reply": "2022-07-19T09:19:48.643323Z",
     "shell.execute_reply.started": "2022-07-19T09:19:48.286914Z"
    }
   },
   "outputs": [],
   "source": [
    "Axes3D\n",
    "\n",
    "fig = plt.figure(figsize=(20, 15))\n",
    "\n",
    "# Add 3D scatter plot\n",
    "ax = fig.add_subplot(projection='3d')\n",
    "ax.scatter(tsne.embedding_[:,0], tsne.embedding_[:,1], tsne.embedding_[:,2], color='#64C3EB')\n",
    "plt.show()"
   ]
  },
  {
   "cell_type": "code",
   "execution_count": 50,
   "id": "eea0eac4",
   "metadata": {
    "execution": {
     "iopub.execute_input": "2022-07-19T09:19:48.647044Z",
     "iopub.status.busy": "2022-07-19T09:19:48.646695Z",
     "iopub.status.idle": "2022-07-19T09:19:49.168438Z",
     "shell.execute_reply": "2022-07-19T09:19:49.167157Z",
     "shell.execute_reply.started": "2022-07-19T09:19:48.647013Z"
    }
   },
   "outputs": [],
   "source": [
    "fig = plt.figure(figsize=(20, 15))\n",
    "sns.scatterplot(x = tsne.embedding_[:,0], y = tsne.embedding_[:,1], size=tsne.embedding_[:,2],color='#4DA017')\n",
    "plt.show()"
   ]
  },
  {
   "cell_type": "markdown",
   "id": "6400a2d6",
   "metadata": {},
   "source": [
    "## 3.2 <a id=\"principal_component\"><strong>Principal Component Analysis</strong></a>\n",
    "[Table of Contents](#contents)"
   ]
  },
  {
   "cell_type": "markdown",
   "id": "97836686",
   "metadata": {},
   "source": []
  },
  {
   "cell_type": "code",
   "execution_count": 51,
   "id": "803d014e",
   "metadata": {
    "execution": {
     "iopub.execute_input": "2022-07-19T09:19:49.171128Z",
     "iopub.status.busy": "2022-07-19T09:19:49.170150Z",
     "iopub.status.idle": "2022-07-19T09:19:49.179901Z",
     "shell.execute_reply": "2022-07-19T09:19:49.178020Z",
     "shell.execute_reply.started": "2022-07-19T09:19:49.171052Z"
    }
   },
   "outputs": [],
   "source": [
    "# Manually pivot table as data is too large for in-built functions\n",
    "def pivot_(df):\n",
    "    \"\"\"\n",
    "    Pivots table.\n",
    "    \"\"\"\n",
    "    new_dict = {'movieId':sorted(set(df.index))}\n",
    "    pivoted = pd.DataFrame(new_dict)\n",
    "    tagids = sorted(set(df['tagId']))\n",
    "    for Id in range(len(tagids)):\n",
    "        pivoted[f'{Id+1}'] = list(df[df['tagId'] == Id+1]['relevance'])\n",
    "    return pivoted"
   ]
  },
  {
   "cell_type": "code",
   "execution_count": 52,
   "id": "ac06228a",
   "metadata": {
    "execution": {
     "iopub.execute_input": "2022-07-19T09:19:49.182934Z",
     "iopub.status.busy": "2022-07-19T09:19:49.181573Z",
     "iopub.status.idle": "2022-07-19T09:20:22.318990Z",
     "shell.execute_reply": "2022-07-19T09:20:22.317797Z",
     "shell.execute_reply.started": "2022-07-19T09:19:49.182885Z"
    }
   },
   "outputs": [],
   "source": [
    "pca_data_pivoted = pivot_(genome_scores).set_index('movieId')\n",
    "pca_data_pivoted.shape"
   ]
  },
  {
   "cell_type": "markdown",
   "id": "90484914",
   "metadata": {},
   "source": []
  },
  {
   "cell_type": "code",
   "execution_count": 53,
   "id": "31ee1b85",
   "metadata": {
    "execution": {
     "iopub.execute_input": "2022-07-19T09:20:22.320869Z",
     "iopub.status.busy": "2022-07-19T09:20:22.320509Z",
     "iopub.status.idle": "2022-07-19T09:20:22.372542Z",
     "shell.execute_reply": "2022-07-19T09:20:22.371096Z",
     "shell.execute_reply.started": "2022-07-19T09:20:22.320837Z"
    }
   },
   "outputs": [],
   "source": [
    "pca_data_pivoted.columns = list(genome_tags['tag'])\n",
    "pca_data_pivoted.head()"
   ]
  },
  {
   "cell_type": "code",
   "execution_count": 54,
   "id": "c21b006b",
   "metadata": {
    "execution": {
     "iopub.execute_input": "2022-07-19T09:20:22.375310Z",
     "iopub.status.busy": "2022-07-19T09:20:22.374747Z",
     "iopub.status.idle": "2022-07-19T09:20:22.383172Z",
     "shell.execute_reply": "2022-07-19T09:20:22.381485Z",
     "shell.execute_reply.started": "2022-07-19T09:20:22.375259Z"
    }
   },
   "outputs": [],
   "source": [
    "features = [col for col in pca_data_pivoted.columns]\n"
   ]
  },
  {
   "cell_type": "markdown",
   "id": "d18a3426",
   "metadata": {},
   "source": [
    "### Scales of measurement\n",
    "It is important that we scale the data before dimensionality reduction.\n",
    "\n",
    "Although all variables are measured on the same scale (0-1), there shouldn't be any downside to setting the mean to zero and standard deviation to 1"
   ]
  },
  {
   "cell_type": "code",
   "execution_count": 55,
   "id": "29311e37",
   "metadata": {
    "execution": {
     "iopub.execute_input": "2022-07-19T09:20:22.385996Z",
     "iopub.status.busy": "2022-07-19T09:20:22.385453Z",
     "iopub.status.idle": "2022-07-19T09:20:28.425320Z",
     "shell.execute_reply": "2022-07-19T09:20:28.423447Z",
     "shell.execute_reply.started": "2022-07-19T09:20:22.385948Z"
    }
   },
   "outputs": [],
   "source": [
    "cf.set_config_file(offline=True, world_readable=True, theme='white')\n",
    "columns = random.sample(range(0, 1129), 20)\n",
    "pca_data_pivoted.iloc[:,columns].iplot(kind='box', title=\"Boxplots of Features (Unscaled)\")"
   ]
  },
  {
   "cell_type": "code",
   "execution_count": 57,
   "id": "7b966a6a",
   "metadata": {
    "execution": {
     "iopub.execute_input": "2022-07-19T09:25:03.387774Z",
     "iopub.status.busy": "2022-07-19T09:25:03.387217Z",
     "iopub.status.idle": "2022-07-19T09:25:03.395043Z",
     "shell.execute_reply": "2022-07-19T09:25:03.393867Z",
     "shell.execute_reply.started": "2022-07-19T09:25:03.387734Z"
    }
   },
   "outputs": [],
   "source": [
    "def scaler(df):\n",
    "    \"\"\"\n",
    "    Scales data.\n",
    "    \"\"\"\n",
    "    scaler = StandardScaler(with_std=True)\n",
    "    scaled_data = scaler.fit_transform(df)\n",
    "    return scaled_data"
   ]
  },
  {
   "cell_type": "code",
   "execution_count": 58,
   "id": "74abbebd",
   "metadata": {
    "execution": {
     "iopub.execute_input": "2022-07-19T09:25:03.864367Z",
     "iopub.status.busy": "2022-07-19T09:25:03.863035Z",
     "iopub.status.idle": "2022-07-19T09:25:08.974654Z",
     "shell.execute_reply": "2022-07-19T09:25:08.972345Z",
     "shell.execute_reply.started": "2022-07-19T09:25:03.864326Z"
    }
   },
   "outputs": [],
   "source": [
    "pca_scaled = scaler(pca_data_pivoted)\n",
    "scaled_pca = pd.DataFrame(pca_scaled, index = pca_data_pivoted.index, columns = pca_data_pivoted.columns)\n",
    "cf.set_config_file(offline=True, world_readable=True, theme='white')\n",
    "# using plotly to plot the boxplot\n",
    "scaled_pca.iloc[:,columns].iplot(kind='box', title=\"Boxplots of Features (Scaled)\")"
   ]
  },
  {
   "cell_type": "code",
   "execution_count": 59,
   "id": "ebeb099f",
   "metadata": {
    "execution": {
     "iopub.execute_input": "2022-07-19T09:25:08.977332Z",
     "iopub.status.busy": "2022-07-19T09:25:08.976916Z",
     "iopub.status.idle": "2022-07-19T09:25:14.740147Z",
     "shell.execute_reply": "2022-07-19T09:25:14.738280Z",
     "shell.execute_reply.started": "2022-07-19T09:25:08.977297Z"
    }
   },
   "outputs": [],
   "source": [
    "# define PCA object\n",
    "pca = PCA()\n",
    "\n",
    "# fit the PCA model to our data and apply the dimensionality reduction \n",
    "prin_comp = pca.fit_transform(pca_data_pivoted[features])\n",
    "\n",
    "# create a dataframe containing the principal components\n",
    "pca_df = pd.DataFrame(data = prin_comp,\n",
    "                      index=pca_data_pivoted.index, columns=pca_data_pivoted.columns\n",
    "                     )\n",
    "\n",
    "# plot line graph of cumulative variance explained\n",
    "plt.plot(np.cumsum(pca.explained_variance_ratio_),color='#4D17A0')\n",
    "plt.xlabel('Number of components')\n",
    "plt.ylabel('Cumulative explained variance')"
   ]
  },
  {
   "cell_type": "code",
   "execution_count": 60,
   "id": "1bac704f",
   "metadata": {
    "execution": {
     "iopub.execute_input": "2022-07-19T09:25:14.742808Z",
     "iopub.status.busy": "2022-07-19T09:25:14.742304Z",
     "iopub.status.idle": "2022-07-19T09:25:19.059091Z",
     "shell.execute_reply": "2022-07-19T09:25:19.057732Z",
     "shell.execute_reply.started": "2022-07-19T09:25:14.742766Z"
    }
   },
   "outputs": [],
   "source": [
    "pca_75 = PCA(.80)\n",
    "pca_75_df = pca_75.fit_transform(pca_data_pivoted)\n",
    "print(round(pca_75.explained_variance_ratio_.sum()*100, 1),\n",
    "      \"% of variance explained by\",\n",
    "      pca_75.n_components_,\n",
    "      \"components.\")"
   ]
  },
  {
   "cell_type": "markdown",
   "id": "cac62c1a",
   "metadata": {},
   "source": [
    "The cummulative explained variance shows an initially steep then gradual curve and not the sharp elbow we were expecting. This could be a result of the genomes already having been chosen as the principle components of movies. However we can see that 80% of the variance in the movie dataset is explained by 131 components. We should use only these components for computatonal efficiency in a content based model"
   ]
  },
  {
   "cell_type": "code",
   "execution_count": 61,
   "id": "3527d393",
   "metadata": {
    "execution": {
     "iopub.execute_input": "2022-07-19T09:25:19.063762Z",
     "iopub.status.busy": "2022-07-19T09:25:19.062582Z",
     "iopub.status.idle": "2022-07-19T09:25:19.107034Z",
     "shell.execute_reply": "2022-07-19T09:25:19.106060Z",
     "shell.execute_reply.started": "2022-07-19T09:25:19.063697Z"
    }
   },
   "outputs": [],
   "source": [
    "pca_75_df = pd.DataFrame(pca_75_df, index = pca_data_pivoted.index)\n",
    "pca_75_df.head()"
   ]
  },
  {
   "cell_type": "markdown",
   "id": "2f68e25e",
   "metadata": {},
   "source": [
    "## 3.3 <a id=\"cluster_analysis\"><strong>Cluster Analysis</strong></a>\n",
    "[Table of Contents](#contents)"
   ]
  },
  {
   "cell_type": "code",
   "execution_count": 62,
   "id": "790aea6f",
   "metadata": {
    "execution": {
     "iopub.execute_input": "2022-07-19T09:25:19.109367Z",
     "iopub.status.busy": "2022-07-19T09:25:19.108804Z",
     "iopub.status.idle": "2022-07-19T09:25:19.116704Z",
     "shell.execute_reply": "2022-07-19T09:25:19.115323Z",
     "shell.execute_reply.started": "2022-07-19T09:25:19.109335Z"
    }
   },
   "outputs": [],
   "source": [
    "# Manually implement the WCSS\n",
    "def within_cluster_variation(df, label_col='cluster_label'):\n",
    "    \"\"\"\n",
    "    Manually implements the WCSS.\n",
    "    \"\"\"\n",
    "    centroids = df.groupby(label_col).mean()\n",
    "    out = 0\n",
    "    for label, point in centroids.iterrows():\n",
    "        df_features = df[df[label_col] == label].drop(label_col, axis=1)\n",
    "        out += (df_features - point).pow(2).sum(axis=1).sum()\n",
    "    return out"
   ]
  },
  {
   "cell_type": "code",
   "execution_count": 63,
   "id": "8c7736b6",
   "metadata": {
    "execution": {
     "iopub.execute_input": "2022-07-19T09:25:19.119633Z",
     "iopub.status.busy": "2022-07-19T09:25:19.119221Z",
     "iopub.status.idle": "2022-07-19T09:26:05.709183Z",
     "shell.execute_reply": "2022-07-19T09:26:05.707282Z",
     "shell.execute_reply.started": "2022-07-19T09:25:19.119601Z"
    }
   },
   "outputs": [],
   "source": [
    "# let's try everything between 2 and 18 clusters where 18 is the number of genres\n",
    "n_clusters = np.arange(2, 19)\n",
    "\n",
    "# store errors for each value of k\n",
    "errors = []\n",
    "\n",
    "# for i between 2 and 19\n",
    "for k in n_clusters:\n",
    "    print(f'training model with {k} clusters')\n",
    "    # perform k-means clustering\n",
    "    km = KMeans(n_clusters=k, n_init=10, max_iter=300, random_state=42)\n",
    "    km.fit(pca_75_df)\n",
    "    \n",
    "    # measure BCSS\n",
    "    print(f'evaluating model with {k} clusters')\n",
    "    y_preds = km.predict(pca_75_df)\n",
    "    pca_75_df = pd.DataFrame(pca_75_df)\n",
    "    pca_75_df['cluster_label'] = y_preds\n",
    "    errors.append(within_cluster_variation(pca_75_df, 'cluster_label'))\n",
    "    print(errors[-1])"
   ]
  },
  {
   "cell_type": "code",
   "execution_count": 64,
   "id": "e0ddac23",
   "metadata": {
    "execution": {
     "iopub.execute_input": "2022-07-19T09:26:05.711628Z",
     "iopub.status.busy": "2022-07-19T09:26:05.711140Z",
     "iopub.status.idle": "2022-07-19T09:26:06.020209Z",
     "shell.execute_reply": "2022-07-19T09:26:06.019170Z",
     "shell.execute_reply.started": "2022-07-19T09:26:05.711574Z"
    }
   },
   "outputs": [],
   "source": [
    "plt.figure(figsize=(12,8))\n",
    "plt.xlabel('Number of Clusters (k)')\n",
    "plt.ylabel('Within-Cluster Sum of Squares (WCSS)')\n",
    "plt.title('Elbow Method for Determining Optimal Value of k')\n",
    "plt.scatter(n_clusters, errors, color=\"#4DA017\")\n",
    "plt.plot(n_clusters, errors)\n",
    "plt.xticks(n_clusters)\n",
    "plt.axvline(x=3, color='#4D17A0', lw=2)\n",
    "plt.show()"
   ]
  },
  {
   "cell_type": "code",
   "execution_count": 65,
   "id": "e1140540",
   "metadata": {
    "execution": {
     "iopub.execute_input": "2022-07-19T09:26:06.022363Z",
     "iopub.status.busy": "2022-07-19T09:26:06.021748Z",
     "iopub.status.idle": "2022-07-19T09:26:07.612517Z",
     "shell.execute_reply": "2022-07-19T09:26:07.611568Z",
     "shell.execute_reply.started": "2022-07-19T09:26:06.022322Z"
    }
   },
   "outputs": [],
   "source": [
    "K = 3\n",
    "# Remember to set the random state for reproducibility\n",
    "km = KMeans(n_clusters=K, verbose=0, random_state=42)\n",
    "print(\"Clustering sparse data with %s\" % km)\n",
    "t0 = time()\n",
    "km.fit(pca_75_df)\n",
    "print(\"done in %0.3fs\" % (time() - t0))"
   ]
  },
  {
   "cell_type": "code",
   "execution_count": 66,
   "id": "fc21261f",
   "metadata": {
    "execution": {
     "iopub.execute_input": "2022-07-19T09:26:07.619275Z",
     "iopub.status.busy": "2022-07-19T09:26:07.616937Z",
     "iopub.status.idle": "2022-07-19T09:26:07.652571Z",
     "shell.execute_reply": "2022-07-19T09:26:07.651590Z",
     "shell.execute_reply.started": "2022-07-19T09:26:07.619229Z"
    }
   },
   "outputs": [],
   "source": [
    "# Obtain cluster memberships for each item in the data\n",
    "y_preds = km.predict(pca_75_df)\n",
    "pca_75_df['cluster_label'] = y_preds\n",
    "centers = km.cluster_centers_"
   ]
  },
  {
   "cell_type": "code",
   "execution_count": 67,
   "id": "7a57fd0a",
   "metadata": {
    "execution": {
     "iopub.execute_input": "2022-07-19T09:26:07.656672Z",
     "iopub.status.busy": "2022-07-19T09:26:07.655890Z",
     "iopub.status.idle": "2022-07-19T09:26:08.671709Z",
     "shell.execute_reply": "2022-07-19T09:26:08.670667Z",
     "shell.execute_reply.started": "2022-07-19T09:26:07.656631Z"
    }
   },
   "outputs": [],
   "source": [
    "plt.figure(dpi=120)\n",
    "for k in range(K):\n",
    "    x1 = pca_75_df[pca_75_df['cluster_label'] == k][0]\n",
    "    x2 = pca_75_df[pca_75_df['cluster_label'] == k][1]\n",
    "    plt.scatter(x1, x2, label=\"k = \"+str(k+1),alpha=0.75)\n",
    "# Show cluster centroid locations    \n",
    "plt.scatter(centers[:,0],centers[:,1],label=\"centroid\")\n",
    "plt.legend()\n",
    "plt.title(f\"K = {K}\")\n",
    "plt.xlabel('Feature 1')\n",
    "plt.ylabel('Feature 2')\n",
    "plt.show()"
   ]
  },
  {
   "cell_type": "markdown",
   "metadata": {},
   "source": [
    "<a id=\"21\"></a>\n",
    "\n",
    "***\n",
    "## **Recommender Choice**\n",
    "***\n",
    "The two filtering recommender systems are categorised as content based and collabortive. The image below is a summary of the type of features that each system could use to make recommendations.\n",
    "\n",
    "Next is a summary of how each system creates recommendations, how it genereates predictions, its drawbacks, and then we finally delve into the modelling.\n",
    "<br>\n",
    "\n",
    "![datacamp.PNG](data:image/png;base64,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)\n"
   ]
  },
  {
   "cell_type": "markdown",
   "metadata": {},
   "source": [
    "<a id=\"22\"></a>\n",
    "### Content Based: \n",
    "\n",
    "Content Based movie recommender systems suggest items based on similarity to a movie that they already positively rated/interacted with. In the context of movies, such a system could use features such as director, cast, genre or description of a movie to make recommendations.\n",
    "\n",
    "Though content-based filtering doesn't need any data about users to make recommendations, a drawback is it tends to return on average items in a similar category with little variation across the recommendations.\n"
   ]
  },
  {
   "cell_type": "markdown",
   "metadata": {},
   "source": [
    "<a id=\"23\"></a>\n",
    "### Collaborative Filtering: \n",
    "\n",
    "Collaborative filtering movie recommender systems are said to be more widely used and make recommendations to users based on the similarity between users, in this case it would be the recommendation of a movie or the likely prediction a user could rate a movie based on the ratings of similar users.\n",
    "\n",
    "Though they are widely used in the industry, one of the drawbacks of collaborative filtering is the so called `cold start problem` when it comes to new users, as the system does not have sufficient data on the user to make accurate predictions.\n",
    "\n",
    "Unlike content based methods, collaborative algorithms return more varied results, enabling the business to introduce users to new types of content, hence increasing viewage and profit. It is for this reason that we use Collaborative filtering as our main approach. The tested models are all implemented from sklean's `surprise` package. The algorithms are tested below and their results summarised in the table in the comet section."
   ]
  },
  {
   "cell_type": "markdown",
   "metadata": {},
   "source": [
    "<a id=\"24\"></a>\n",
    "### Similarity Measure\n",
    "\n",
    "![1_Q4xQoV8k_7S7xB-NfvFdrw.png](data:image/png;base64,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)\n",
    "\n",
    "To conclude on recommender systems, similarity measure plays a big role when it comes to making recommendation of a movie or predictions of a rating. Other distance similarity measures can be used such as the Jaccard distance but for the algorithms in this notebook, the cosine similarity was employed.\n",
    "\n",
    "According to an article in [towardsdatascience](https://towardsdatascience.com/using-cosine-similarity-to-build-a-movie-recommendation-system-ae7f20842599), `Cosine similarity` is a metric used to measure how similar two items are. Mathematically, it measures the cosine of the angle between two vectors projected in a multi-dimensional space. The output value ranges from 0–1. 0 means no similarity, where as 1 means that both the items are 100% similar.\n"
   ]
  },
  {
   "cell_type": "markdown",
   "id": "f1238689",
   "metadata": {
    "papermill": {
     "duration": 0.009079,
     "end_time": "2022-07-18T13:56:42.984814",
     "exception": false,
     "start_time": "2022-07-18T13:56:42.975735",
     "status": "completed"
    },
    "tags": []
   },
   "source": [
    "# 4.0 <a id=\"model\"><strong>MODELLING</strong></a>\n",
    "[Table of Contents](#contents)\n",
    "\n",
    "In this phase, we selected the features (variables) that will contribute to our model. Not all features will be relevant. We built a clustering model; this will include applying multiple algorithms to get the best model. Once we have decided on the best algorithm, we will train our model on the input data.<br>\n",
    "\n",
    "* ### More On Clustering Models:\n",
    "* Clustering models allow you to categorize records into a certain number of clusters. This can help you identify natural groups in your data.<br>\n",
    "* Clustering models focus on identifying groups of similar records and labeling the records according to the group to which they belong. This is done without the benefit of prior knowledge about the groups and their characteristics. In fact, you may not even know exactly how many groups to look for. This is what distinguishes clustering models from the other machine-learning techniques—there is no predefined output or target field for the model to predict. These models are often referred to as <b>unsupervised learning models</b>, since there is no external standard by which to judge the model's classification performance. There are no right or wrong answers for these models. Their value is determined by their ability to capture interesting groupings in the data and provide useful descriptions of those groupings.<br>\n",
    "* Clustering methods are based on measuring distances between records and between clusters. Records are assigned to clusters in a way that tends to minimize the distance between records belonging to the same cluster.\n",
    "\n",
    "Read [More](https://www.ibm.com/docs/en/sdm/18.0.0?topic=models-building-clustering-model)\n"
   ]
  },
  {
   "cell_type": "markdown",
   "id": "5fbc24a6",
   "metadata": {
    "papermill": {
     "duration": 0.010093,
     "end_time": "2022-07-18T13:56:43.011369",
     "exception": false,
     "start_time": "2022-07-18T13:56:43.001276",
     "status": "completed"
    },
    "tags": []
   },
   "source": [
    "# 4.1 <a id=\"modelpreprocessing\"><strong>MODEL PREPROCESSING</strong></a>\n",
    "[Table of Contents](#contents)\n",
    "\n",
    "This section looks at normalizing, transforming, and creating quantiles, and discusses why quantiles are the best default choice for transforming any data distribution.\n",
    "\n",
    "[Read More](https://developers.google.com/machine-learning/clustering/prepare-data)"
   ]
  },
  {
   "cell_type": "markdown",
   "metadata": {
    "papermill": {
     "duration": 0.010071,
     "end_time": "2022-07-18T13:56:43.031306",
     "exception": false,
     "start_time": "2022-07-18T13:56:43.021235",
     "status": "completed"
    },
    "tags": []
   },
   "source": [
    "<a id=\"26\"></a>\n",
    "### **Splitting of Training and Validation Sets**\n",
    "\n",
    "To load a dataset from the pandas dataframe, we will use the `load_from_df()` method. We will also use a `Reader` object with the `rating_scale` parameter specified. The dataframe must have three columns, corresponding to the user ids, the item ids, and the ratings in this order. Each row thus corresponds to a given rating."
   ]
  },
  {
   "cell_type": "code",
   "execution_count": null,
   "metadata": {},
   "outputs": [],
   "source": [
    "# Define sample size of 500 000 taken from train dataset\n",
    "# The samples are taken without replacement\n",
    "train_sample = train.sample(n = 500000, replace = False)\n",
    "# Drop the timestamp column as it is not needed\n",
    "data = train_sample.drop('timestamp', axis = 1)\n",
    "# Define the Reader object by specifying the rating scale in the dataset\n",
    "reader = Reader(rating_scale=(0.5, 5), line_format='user item rating') \n",
    "# Load the dataset from the pandas dataframe\n",
    "data = Dataset.load_from_df(data, reader)\n",
    "\n",
    "# Splitting dataset into train and validation sets\n",
    "train_set, val_set = train_test_split(data, test_size=0.15, random_state=42)\n"
   ]
  },
  {
   "cell_type": "markdown",
   "id": "2d8bf891",
   "metadata": {
    "papermill": {
     "duration": 0.009604,
     "end_time": "2022-07-18T13:56:43.051315",
     "exception": false,
     "start_time": "2022-07-18T13:56:43.041711",
     "status": "completed"
    },
    "tags": []
   },
   "source": [
    "# 4.2 <a id=\"modeltraining\"><strong>MODEL TRAINING</strong></a>\n",
    "[Table of Contents](#contents)\n"
   ]
  },
  {
   "cell_type": "markdown",
   "id": "e25c0888",
   "metadata": {
    "papermill": {
     "duration": 0.00965,
     "end_time": "2022-07-18T13:56:43.071282",
     "exception": false,
     "start_time": "2022-07-18T13:56:43.061632",
     "status": "completed"
    },
    "tags": []
   },
   "source": [
    "# 4.2.1 <a id=\"model1\"><strong>MODEL 1</strong></a>\n",
    "[Table of Contents](#contents)\n"
   ]
  },
  {
   "cell_type": "markdown",
   "metadata": {
    "papermill": {
     "duration": 0.009817,
     "end_time": "2022-07-18T13:56:43.091069",
     "exception": false,
     "start_time": "2022-07-18T13:56:43.081252",
     "status": "completed"
    },
    "tags": []
   },
   "source": [
    "<a id=\"KNNB\"></a>\n",
    "### KNN Basic\n",
    "\n",
    "The `KNNBasic` is a basic nearest-neighbor based collaborative filtering algorithm derived from the\n",
    "basic nearest-neighbor approach.\n",
    "\n",
    "![image.png](https://drive.google.com/uc?export=view&id=1wnK97Alb4hYATXsA-IxD3sG5ZyZALck_)\n"
   ]
  },
  {
   "cell_type": "code",
   "execution_count": null,
   "metadata": {},
   "outputs": [],
   "source": [
    "# Modeling\n",
    "\n",
    "kSplit = model_selection.split.KFold(n_splits=5, shuffle=True)\n",
    "\n",
    "sim_options = {'name': 'cosine',\n",
    "               'user_based': False  # compute  similarities between items\n",
    "               }\n",
    "\n",
    "collabKNN = KNNBasic(k=40, sim_options=sim_options)\n",
    "\n",
    "rmseKNN = []\n",
    "rmseSlope = []\n",
    "\n",
    "for trainset, testset in kSplit.split(data):  # iterate through the folds\n",
    "    collabKNN.fit(trainset)\n",
    "    predictionsKNN = collabKNN.test(testset)\n",
    "    # get root means squared error\n",
    "    rmseKNN.append(surprise.accuracy.rmse(predictionsKNN, verbose=True))\n",
    "\n",
    "# Dictionary for the data to log for KNN basic model\n",
    "params = {'k': 40, 'sim_options': {'name': 'cosine', 'user_based': False},\n",
    "          'model_type': 'KNN_basic'}\n",
    "metrics = {'RMSE': surprise.accuracy.rmse(predictionsKNN, verbose=True)}\n",
    "\n",
    "# Log the parameters and results for the KNN basic model\n",
    "experiment.log_parameters(params)\n",
    "experiment.log_parameters(metrics)\n",
    "\n",
    "# End the experiment for the KNN basic experiment\n",
    "experiment.end()"
   ]
  },
  {
   "cell_type": "markdown",
   "id": "034b19b6",
   "metadata": {
    "papermill": {
     "duration": 0.009791,
     "end_time": "2022-07-18T13:56:43.110607",
     "exception": false,
     "start_time": "2022-07-18T13:56:43.100816",
     "status": "completed"
    },
    "tags": []
   },
   "source": [
    "# 4.2.2 <a id=\"model2\"><strong>MODEL 2</strong></a>\n",
    "[Table of Contents](#contents)\n"
   ]
  },
  {
   "cell_type": "markdown",
   "metadata": {
    "papermill": {
     "duration": 0.009404,
     "end_time": "2022-07-18T13:56:43.130735",
     "exception": false,
     "start_time": "2022-07-18T13:56:43.121331",
     "status": "completed"
    },
    "tags": []
   },
   "source": [
    "<a id=\"28\"></a>\n",
    "### CoClustering\n",
    "\n",
    "This is an implementation of collaborating filtering algorithm based on co-clustering. In this\n",
    "algorithm, users and items are classified into different clusters and co-clusters. The prediction\n",
    "rating 𝑟𝑢𝑖 according to this algorithm is defined as:\n",
    "\n",
    "![image.png](https://drive.google.com/uc?export=view&id=1lVQH3TbSrHIEEGorZl2y-_10AP9PZ9Is)"
   ]
  },
  {
   "cell_type": "code",
   "execution_count": null,
   "metadata": {},
   "outputs": [],
   "source": [
    "# Modeling\n",
    "kSplit = model_selection.split.KFold(n_splits=5, shuffle=True)\n",
    "coClus = surprise.prediction_algorithms.co_clustering.CoClustering(n_cltr_u=4,\n",
    "                                                                   n_cltr_i=4,\n",
    "                                                                   n_epochs=25)\n",
    "rmseCo = []\n",
    "for trainset, testset in kSplit.split(data):  # iterate through the folds\n",
    "    coClus.fit(trainset)\n",
    "    predictionsCoClus = coClus.test(testset)\n",
    "    # get root means squared error\n",
    "    rmseCo.append(surprise.accuracy.rmse(predictionsCoClus, verbose=True))\n",
    "\n",
    "# Dictionary for the data to log for CoClustering model\n",
    "params = {'user_cluster': 4, 'item_cluster': 4,\n",
    "          'n_ephocs': 25, 'model_name': 'CoClustering'}\n",
    "metrics = {'RMSE': surprise.accuracy.rmse(predictionsCoClus, verbose=True)}\n",
    "\n",
    "# Log the parameters and results for the CoClustering model\n",
    "experiment.log_parameters(params)\n",
    "experiment.log_parameters(metrics)\n",
    "\n",
    "# End the experiment for the CoClustering experiment\n",
    "experiment.end()\n"
   ]
  },
  {
   "cell_type": "markdown",
   "id": "3ea226c3",
   "metadata": {
    "papermill": {
     "duration": 0.010448,
     "end_time": "2022-07-18T13:56:43.151110",
     "exception": false,
     "start_time": "2022-07-18T13:56:43.140662",
     "status": "completed"
    },
    "tags": []
   },
   "source": [
    "# 4.2.3 <a id=\"model3\"><strong>MODEL 3</strong></a>\n",
    "[Table of Contents](#contents)\n"
   ]
  },
  {
   "cell_type": "markdown",
   "metadata": {
    "papermill": {
     "duration": 0.009071,
     "end_time": "2022-07-18T13:56:43.169989",
     "exception": false,
     "start_time": "2022-07-18T13:56:43.160918",
     "status": "completed"
    },
    "tags": []
   },
   "source": [
    "<a id=\"29\"></a>\n",
    "### Baseline Only \n",
    "The `BaselineOnly` algorithm predicts the baseline estimate for a given user. This is based on the average rating from the entire ratings from the database and it is calculated as:\n",
    "\n",
    "![picture](https://drive.google.com/uc?export=view&id=1mXup-c0uLykvoofwlcFNUxt-lUmHmGy-)\n"
   ]
  },
  {
   "cell_type": "code",
   "execution_count": null,
   "metadata": {},
   "outputs": [],
   "source": [
    "# Modeling\n",
    "kSplit = model_selection.split.KFold(n_splits=5, shuffle=True)\n",
    "BLO = surprise.prediction_algorithms.BaselineOnly()\n",
    "rmseBLO = []\n",
    "# iterate through the folds.\n",
    "for trainset, testset in kSplit.split(data):\n",
    "    BLO.fit(trainset)\n",
    "    BLOPreds = BLO.test(testset)\n",
    "    # get root means squared error\n",
    "    rmseBLO.append(surprise.accuracy.rmse(BLOPreds, verbose=True))\n",
    "\n",
    "# Dictionary for the data to log for BLO model\n",
    "paramns = {'model_name': 'BaseLineOnly'}\n",
    "metrics = {'RMSE': surprise.accuracy.rmse(BLOPreds, verbose=True)}\n",
    "\n",
    "# Log the parameters and results for the BLO model\n",
    "experiment.log_parameters(params)\n",
    "experiment.log_parameters(metrics)\n",
    "\n",
    "# End the experiment for the BLO experiment\n",
    "experiment.end()\n"
   ]
  },
  {
   "cell_type": "markdown",
   "metadata": {},
   "source": [
    "<a id=\"30\"></a>\n",
    "### Tuned BaselineOnly\n"
   ]
  },
  {
   "cell_type": "code",
   "execution_count": null,
   "metadata": {},
   "outputs": [],
   "source": [
    "# Modeling\n",
    "train_set, val_set = train_test_split(data, test_size=0.15, random_state=42)\n",
    "bsl_options = {'method': 'als',\n",
    "               'n_epochs': 5,\n",
    "               'reg_u': 12,\n",
    "               'reg_i': 5\n",
    "               }\n",
    "bl_algo = BaselineOnly(bsl_options=bsl_options)\n",
    "cross_validate(bl_algo, data, measures=['RMSE'], cv=5, verbose=False)\n",
    "bl_predictions = bl_algo.fit(train_set).test(val_set)\n",
    "accuracy.rmse(bl_predictions)\n",
    "\n",
    "# Dictionary for the data to log for baseline_tuned model\n",
    "params = {'model_name': 'Baseline_tuned'}\n",
    "metrics = {'RMSE': accuracy.rmse(bl_predictions)}\n",
    "\n",
    "# Log the parameters and results for the baseline_tuned model\n",
    "experiment.log_parameters(params)\n",
    "experiment.log_parameters(metrics)\n",
    "# End the experiment for the baseline_tuned experiment\n",
    "experiment.end()\n"
   ]
  },
  {
   "cell_type": "markdown",
   "metadata": {},
   "source": [
    "<a id=\"31\"></a>\n",
    "### KNNWithMeans\n",
    "\n",
    "The `KNNWithMeans` is also a basic nearest-neighbor based collaborative filtering algorithm which\n",
    "takes mean rating of each user into account.\n",
    "\n",
    "![image.png](https://drive.google.com/uc?export=view&id=1a_3nZkvUmDX4rb3Tz-5iNUznipfRm05z)"
   ]
  },
  {
   "cell_type": "code",
   "execution_count": null,
   "metadata": {},
   "outputs": [],
   "source": [
    "# Modeling\n",
    "kSplit = model_selection.split.KFold(n_splits=5, shuffle=True)\n",
    "KNNMeans = surprise.prediction_algorithms.KNNWithMeans(sim_options=sim_options)\n",
    "rmseKNNMeans = []\n",
    "for trainset, testset in kSplit.split(data):  # iterate through the folds\n",
    "    KNNMeans.fit(trainset)\n",
    "    KNNMeansPreds = KNNMeans.test(testset)\n",
    "    # Get root means squared error\n",
    "    rmseKNNMeans.append(surprise.accuracy.rmse(KNNMeansPreds, verbose=True))\n",
    "\n",
    "# Dictionary for the data to log for KNNMeans model\n",
    "params = {'model_name': 'KNNWithMeans'}\n",
    "metrics = {'RMSE': surprise.accuracy.rmse(KNNMeansPreds, verbose=True)}\n",
    "\n",
    "# Log the parameters and results for the KNNMeans model\n",
    "experiment.log_parameters(params)\n",
    "experiment.log_parameters(metrics)\n",
    "# End the experiment for the KNNMeans experiment\n",
    "experiment.end()\n"
   ]
  },
  {
   "cell_type": "markdown",
   "metadata": {},
   "source": [
    "<a id=\"32\"></a>\n",
    "### KNNWithZscore\n",
    "\n",
    "The `KNNWithZScore` is also a basic nearest-neighbor based collaborative filtering algorithm which\n",
    "takes the z-score normalization of each user into account.\n",
    "\n",
    "![image.png](https://drive.google.com/uc?export=view&id=1Mc-2kWzavtkC0cd3QB-1oblB9KHomhtQ)"
   ]
  },
  {
   "cell_type": "code",
   "execution_count": null,
   "metadata": {},
   "outputs": [],
   "source": [
    "# Modeling\n",
    "kSplit = model_selection.split.KFold(n_splits=5, shuffle=True)\n",
    "KNNZsco = surprise.prediction_algorithms.KNNWithZScore(sim_options=sim_options)\n",
    "rmseKNNZscore = []\n",
    "for trainset, testset in kSplit.split(data):  # iterate through the folds.\n",
    "    KNNZsco.fit(trainset)\n",
    "    KNNZscorePreds = KNNZsco.test(testset)\n",
    "    # Get root means squared error\n",
    "    rmseKNNZscore.append(surprise.accuracy.rmse(KNNZscorePreds, verbose=True))\n",
    "\n",
    "# Dictionary for the data to log for KNNWithZScore model\n",
    "params = {'model_name': 'KNNWithZscore'}\n",
    "metrics = {'RMSE': surprise.accuracy.rmse(KNNZscorePreds, verbose=True)}\n",
    "\n",
    "# Log the parameters and results for the KNNWithZscore model\n",
    "experiment.log_parameters(params)\n",
    "experiment.log_parameters(metrics)\n",
    "# End the experiment for the KNNWithZscore experiment\n",
    "experiment.end()\n"
   ]
  },
  {
   "cell_type": "markdown",
   "metadata": {},
   "source": [
    "<a id=\"33\"></a>\n",
    "### KNNBaseline\n",
    "\n",
    "The `KNNBaseline` is also a basic nearest-neighbor based collaborative filtering algorithm which\n",
    "takes mean rating of each user into account.\n",
    "\n",
    "![image.png](https://drive.google.com/uc?export=view&id=1sPKkdMd06aZcz7O5y2EIV9gTcEf3flCv)"
   ]
  },
  {
   "cell_type": "code",
   "execution_count": null,
   "metadata": {},
   "outputs": [],
   "source": [
    "# Modeling\n",
    "kSplit = model_selection.split.KFold(n_splits=5, shuffle=True)\n",
    "KNNBaseL = surprise.prediction_algorithms.KNNBaseline(sim_options=sim_options)\n",
    "rmseKNNBaseL = []\n",
    "for trainset, testset in kSplit.split(data):  # iterate through the folds.\n",
    "    KNNBaseL.fit(trainset)\n",
    "    KNNBaseLPreds = KNNBaseL.test(testset)\n",
    "    # Get root means squared error\n",
    "    rmseKNNBaseL.append(surprise.accuracy.rmse(KNNBaseLPreds, verbose=True))\n",
    "\n",
    "# Dictionary for the data to log for KNNBaseLine model\n",
    "params = {'model_name': 'KNNBaseLine'}\n",
    "metrics = {'RMSE': surprise.accuracy.rmse(KNNBaseLPreds, verbose=True)}\n",
    "\n",
    "# Log the parameters and results for the KNNBaseLine model\n",
    "experiment.log_parameters(params)\n",
    "experiment.log_parameters(metrics)\n",
    "# End the experiment for the KNNBaseLine experiment\n",
    "experiment.end()\n"
   ]
  },
  {
   "cell_type": "markdown",
   "metadata": {},
   "source": [
    "<a id=\"34\"></a>\n",
    "### Non-negative Matrix Factorization (NMF)\n",
    "\n",
    "This is a non-negative matrix approximation where a matrix is factorized into (usually) two matrices, with the property that all three matrices have no negative elements.\n",
    "\n",
    "![image.png](https://drive.google.com/uc?export=view&id=1mMWao1jPUJWOIz6rcGtOfoyK5iBxYCVx)"
   ]
  },
  {
   "cell_type": "code",
   "execution_count": null,
   "metadata": {},
   "outputs": [],
   "source": [
    "# Modelling\n",
    "kSplit = model_selection.split.KFold(n_splits=5, shuffle=True)\n",
    "NMF = surprise.prediction_algorithms.NMF()\n",
    "rmseNMF = []\n",
    "for trainset, testset in kSplit.split(data): #iterate through the folds.\n",
    "    NMF.fit(trainset)\n",
    "    NMFPreds = NMF.test(testset)\n",
    "    rmseNMF.append(surprise.accuracy.rmse(NMFPreds,verbose=True))#get root means squared error\n",
    "\n",
    "    \n",
    "# Dictionary for the data to log for the NMF model\n",
    "params = {'model_name': 'NMF'}\n",
    "metrics = {'RMSE': surprise.accuracy.rmse(NMFPreds,verbose=True)}\n",
    "\n",
    "# Log the parameters and results for the NMF model\n",
    "experiment.log_parameters(params)\n",
    "experiment.log_parameters(metrics)\n",
    "# End the experiment for the NMF experiment"
   ]
  },
  {
   "cell_type": "markdown",
   "metadata": {},
   "source": [
    "<a id=\"35\"></a>\n",
    "### Singular Value Decomposition (SVD)\n",
    "\n",
    "Singular Value Decomposition is a matrix decomposition method for reducing the number of features of a dataset by reducing the space dimension from N-dimension to K-dimension (where K<N). In the context of this project, the SVD is used as a collaborative filtering technique. It uses a matrix structure where each row represents a user, and each column represents an item. The elements of this matrix are the ratings that are given to items by users.\n",
    "<div align=\"center\" \">\n",
    "<img src=\"https://miro.medium.com/max/313/1*-wHEGA5UHBK4-Bejlbr__A.png\"\n",
    "     style=\"float: center; padding-bottom=0.5em\"\n",
    "     width=400px/>\n",
    "</div>\n",
    "\n",
    "where A is an m x n matrix, U is an (m x m) orthogonal matrix, 𝚺 is an (m x n) nonnegative rectangular diagonal matrix, and V is an (n x n) orthogonal matrix.\n",
    "\n",
    "U is also referred to as the left singular vectors, 𝚺 the singular values, and V the right singular vectors"
   ]
  },
  {
   "cell_type": "code",
   "execution_count": null,
   "metadata": {},
   "outputs": [],
   "source": [
    "# Define the SVD algorithm class\n",
    "svd_algo = SVD()\n",
    "# Fitting the model on the train_set\n",
    "svd_algo.fit(train_set)\n",
    "# Predicting on the validation set\n",
    "svd_predictions = svd_algo.test(val_set)\n",
    "# Calculating the RMSE of the predictions\n",
    "accuracy.rmse(svd_predictions)\n",
    "\n",
    "# Dictionary for the data to log for SVD model\n",
    "params = {'model_name': 'SVD'}\n",
    "metrics = {'RMSE': accuracy.rmse(svd_predictions)}\n",
    "\n",
    "# Log the parameters and results for the SVD model\n",
    "experiment.log_parameters(params)\n",
    "experiment.log_parameters(metrics)\n",
    "# End the experiment for the SVD experiment\n",
    "experiment.end()"
   ]
  },
  {
   "cell_type": "markdown",
   "metadata": {},
   "source": [
    "<a id=\"39\"></a>\n",
    "***\n",
    "## **Hyperparameter Tuning of Best Model**\n",
    "***"
   ]
  },
  {
   "cell_type": "code",
   "execution_count": null,
   "metadata": {},
   "outputs": [],
   "source": [
    "rating_scale = Reader(rating_scale=(0.5, 5))\n",
    "train_df = Dataset.load_from_df(train.drop('timestamp', axis=1), rating_scale)\n",
    "\n",
    "# Training and validation set split for hypertuning\n",
    "train_set, val_set = train_test_split(train_df,\n",
    "                                      test_size=0.008,\n",
    "                                      random_state=42)\n",
    "\n",
    "# Modelling of the SVD hypertuning\n",
    "svd_algo_hyper = SVD(n_factors=160, \n",
    "                     lr_all=0.0085,\n",
    "                     reg_all=0.02,\n",
    "                     n_epochs=20,\n",
    "                     init_std_dev=0.01)\n",
    "svd_algo_hyper.fit(train_set)\n",
    "\n",
    "# Predicting on the validation set\n",
    "svd_hyper_predictions = svd_algo_hyper.test(val_set)\n",
    "\n",
    "# Convert the predictions to dataframe\n",
    "#test = pd.DataFrame(predictions)\n",
    "accuracy.rmse(svd_hyper_predictions)\n",
    "\n",
    "# Dictionary for the data to log for the SVD tuned model\n",
    "params = {'model_name': 'SVD_Tuned'}\n",
    "metrics = {'RMSE': accuracy.rmse(svd_hyper_predictions)}\n",
    "\n",
    "# Log the parameters and results for the SVD tuned model\n",
    "experiment.log_parameters(params)\n",
    "experiment.log_parameters(metrics)\n",
    "# End the experiment for the SVD tuned experiment\n",
    "experiment.end()\n"
   ]
  },
  {
   "cell_type": "markdown",
   "metadata": {},
   "source": [
    "The DataFrame below is a summary of the Comet models from best performing to worst performing. It is important to note the image of the `experiments` cuts out the last module due to screenshot size. Therefore its findings are captured in the dataframe"
   ]
  },
  {
   "cell_type": "code",
   "execution_count": null,
   "metadata": {},
   "outputs": [],
   "source": [
    "# Summary of the comet experiments\n",
    "rmse_scores = [1.16, 1.04, 1.00, 1.12, 0.92, 0.91, 0.92, 1.03, 0.98, 1.04, 0.78]\n",
    "models = ['NMF', 'KNN Basic', 'BaseLineOnly', 'CoClustering',\n",
    "          'SVD', 'SVD_tuned', 'BaselineTuned', 'KNNwithZscore',\n",
    "          'KNNBaseLine', 'KNNWithMeans', 'SVDNewTuned']\n",
    "comet_scores = pd.DataFrame({'RMSE': rmse_scores}, index = models)\n",
    "comet_scores.sort_values(by='RMSE')"
   ]
  },
  {
   "cell_type": "code",
   "execution_count": null,
   "metadata": {},
   "outputs": [],
   "source": [
    "# Train model on whole dataset\n",
    "reader = Reader(rating_scale=(train_df['rating'].min(), train_df['rating'].max()))\n",
    "data = Dataset.load_from_df(train_df[['userId', 'movieId', 'rating']], reader)\n",
    "trainset = data.build_full_trainset()\n",
    "svd = SVD(n_epochs = 40, n_factors = 400, init_std_dev = 0.005, random_state=42, verbose=True)\n",
    "svd.fit(trainset)\n",
    "\n",
    "# Create Kaggle submission file\n",
    "predictions = []\n",
    "for i, row in test_df.iterrows():\n",
    "    x = (svd.predict(row.userId, row.movieId))\n",
    "    pred = x[3]\n",
    "    predictions.append(pred)\n",
    "test_df['Id'] = test_df['userId'].map(str) +'_'+ test_df['movieId'].map(str)\n",
    "results = pd.DataFrame({\"Id\":test_df['Id'],\"rating\": predictions})\n",
    "results.to_csv(\"Team_ES5_submission.csv\", index=False)"
   ]
  },
  {
   "cell_type": "markdown",
   "id": "3348b803",
   "metadata": {
    "papermill": {
     "duration": 0.009882,
     "end_time": "2022-07-18T13:56:43.192178",
     "exception": false,
     "start_time": "2022-07-18T13:56:43.182296",
     "status": "completed"
    },
    "tags": []
   },
   "source": [
    "# 5.0 <a id=\"Conclusion/Recommendation\"><strong>CONCLUSION AND RECOMMENDATION</strong></a>\n",
    "[Table of Contents](#contents)"
   ]
  },
  {
   "cell_type": "markdown",
   "id": "5a749541",
   "metadata": {
    "papermill": {
     "duration": 0.009264,
     "end_time": "2022-07-18T13:56:43.211246",
     "exception": false,
     "start_time": "2022-07-18T13:56:43.201982",
     "status": "completed"
    },
    "tags": []
   },
   "source": [
    "# 5.1 <a id=\"Conclusion\"><strong>CONCLUSION</strong></a>\n",
    "[Table of Contents](#contents)"
   ]
  },
  {
   "cell_type": "markdown",
   "metadata": {},
   "source": [
    "<a id=\"conclusion\"></a>\n",
    "## 8. Conclusion\n",
    "In this project, we succeeded in building an unsupervised machine learning model that is able to recommend movies based on content-based or collaborative filtering and is capable of accurately predicting how a user will rate a movie they have not yet viewed, based on their historical preferences. Our top performing model has a root mean squared error (RMSE) of 0.78, based on a testing set submitted to the EDSA [Kaggle](https://www.kaggle.com/c/edsa-recommender-system-predict/leaderboard) competition.  \n",
    "\n",
    "\n",
    "The singular value decomposition (SVD) algorithm is a baseline approach to recommender systems, as it has a broad range of applications including dimensionality reduction, solving linear inverse problems, and data fitting. The SVD algorithm generally performs better on large datasets compared to some other models as it decomposes a matrix into constituent arrays of feature vectors corresponding to each row and each column."
   ]
  },
  {
   "cell_type": "markdown",
   "id": "936522d3",
   "metadata": {
    "papermill": {
     "duration": 0.009205,
     "end_time": "2022-07-18T13:56:43.230174",
     "exception": false,
     "start_time": "2022-07-18T13:56:43.220969",
     "status": "completed"
    },
    "tags": []
   },
   "source": [
    "# 5.2 <a id=\"Recommendation\"><strong>RECOMMENDATION</strong></a>\n",
    "[Table of Contents](#contents)"
   ]
  },
  {
   "cell_type": "markdown",
   "id": "7b4a93e0",
   "metadata": {
    "papermill": {
     "duration": 0.011243,
     "end_time": "2022-07-18T13:56:43.251893",
     "exception": false,
     "start_time": "2022-07-18T13:56:43.240650",
     "status": "completed"
    },
    "tags": []
   },
   "source": [
    "# 6.0 <a id=\"reference\"><strong>REFERENCES</strong></a>\n",
    "[Table of Contents](#contents)"
   ]
  },
  {
   "cell_type": "markdown",
   "metadata": {
    "papermill": {
     "duration": 0.009245,
     "end_time": "2022-07-18T13:56:43.271253",
     "exception": false,
     "start_time": "2022-07-18T13:56:43.262008",
     "status": "completed"
    },
    "tags": []
   },
   "source": [
    "<a id=\"ref\"></a>\n",
    "## 10. References\n",
    "<a id=\"ref1\"></a>[1] Ansari, A. (n.d.). Internet Recommendation Systems. Retrieved August/September, 2000, from https://www0.gsb.columbia.edu/mygsb/faculty/research/pubfiles/385/Internet Recommendation Systems.pdf\n",
    "\n",
    "<a id=\"ref2\"></a>[2] Shi, C. (2017, June 27). A Hybrid Recommender with Yelp Challenge. Retrieved from https://nycdatascience.com/blog/student-works/yelp-recommender-part-1/\n",
    "\n",
    "<a id=\"ref3\"></a>[3] Wikipedia: t-distributed stochastic neighbor embedding. Retrieved from https://en.wikipedia.org/wiki/T-distributed_stochastic_neighbor_embedding\n",
    "\n",
    "<a id=\"ref4\"></a>[4] Jolliffe, I.T. & Cadima, J. (2016, April 13). Principal component analysis: a review and recent developments. Retrieved from https://royalsocietypublishing.org/doi/10.1098/rsta.2015.0202\n",
    "\n",
    "<a id=\"ref5\"></a>[5] Ajitsaria, A. (n.d.). Build a Recommendation Engine With Collaborative Filtering. Retrieved from https://realpython.com/build-recommendation-engine-collaborative-filtering\n",
    "\n",
    "<a id=\"ref6\"></a>[6] Funk, S. (2006, Deccember 11). Netflix Update: Try This at Home. Retrieved from https://sifter.org/simon/journal/20061211.html\n",
    "\n",
    "<a id=\"ref7\"></a>[7] Recommender Systems: Content-based Filtering. Retrieved from http://recommender-systems.org/content-based-filtering/"
   ]
  },
  {
   "cell_type": "code",
   "execution_count": null,
   "metadata": {},
   "outputs": [],
   "source": []
  }
 ],
 "metadata": {
  "colab": {
   "collapsed_sections": [],
   "name": "Team_RM4_UnsupervisedNotebook.ipynb",
   "provenance": []
  },
  "kernelspec": {
   "display_name": "Python 3 (ipykernel)",
   "language": "python",
   "name": "python3"
  },
  "language_info": {
   "codemirror_mode": {
    "name": "ipython",
    "version": 3
   },
   "file_extension": ".py",
   "mimetype": "text/x-python",
   "name": "python",
   "nbconvert_exporter": "python",
   "pygments_lexer": "ipython3",
   "version": "3.9.7"
  }
 },
 "nbformat": 4,
 "nbformat_minor": 1
}
